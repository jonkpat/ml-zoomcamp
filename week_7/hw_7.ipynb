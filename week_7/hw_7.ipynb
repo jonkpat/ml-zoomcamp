{
 "cells": [
  {
   "cell_type": "markdown",
   "id": "9afb2c69-8c69-4a11-97fc-42af75730b8a",
   "metadata": {},
   "source": [
    "# Homework 7"
   ]
  },
  {
   "cell_type": "markdown",
   "id": "3fb224ef-6970-4a36-aa2e-024a3fce7a6d",
   "metadata": {},
   "source": [
    "## Question 1"
   ]
  },
  {
   "cell_type": "code",
   "execution_count": 1,
   "id": "162244fc-a177-41ad-bf4d-2ee5400ba0fe",
   "metadata": {},
   "outputs": [
    {
     "name": "stdout",
     "output_type": "stream",
     "text": [
      "bentoml, version 1.0.7\n"
     ]
    }
   ],
   "source": [
    "!bentoml --version"
   ]
  },
  {
   "cell_type": "markdown",
   "id": "e2b002dd-8e1e-4e82-a35b-9eefce1a7d3b",
   "metadata": {},
   "source": [
    "## Question 2"
   ]
  },
  {
   "cell_type": "code",
   "execution_count": 2,
   "id": "2a38e3b3-7d65-4c0a-9106-b3f151b10318",
   "metadata": {},
   "outputs": [
    {
     "name": "stdout",
     "output_type": "stream",
     "text": [
      "-rw-r--r--  1 patrick  staff   115K 24 okt 15:06 saved_model.ubj\n"
     ]
    }
   ],
   "source": [
    "!ls -l -h /Users/patrick/bentoml/models/credit_risk_model/vx7fhhsttsyqpdrl | grep saved"
   ]
  },
  {
   "cell_type": "markdown",
   "id": "0cc76b90-a96f-41ec-adfb-722f9fff642c",
   "metadata": {},
   "source": [
    "## Question 3"
   ]
  },
  {
   "cell_type": "code",
   "execution_count": 4,
   "id": "f45f4c4b-e258-4407-933c-f7f862b5f2c1",
   "metadata": {},
   "outputs": [],
   "source": [
    "from pydantic import BaseModel"
   ]
  },
  {
   "cell_type": "code",
   "execution_count": 6,
   "id": "bffb0b0c-a599-43bf-92ff-405e1d887185",
   "metadata": {},
   "outputs": [],
   "source": [
    "sample = {\n",
    "  \"name\": \"Tim\",\n",
    "  \"age\": 37,\n",
    "  \"country\": \"US\",\n",
    "  \"rating\": 3.14\n",
    "}"
   ]
  },
  {
   "cell_type": "code",
   "execution_count": 8,
   "id": "194ff622-3fe3-4bda-93fb-61f3c6ea4a0d",
   "metadata": {},
   "outputs": [],
   "source": [
    "class UserProfile(BaseModel):\n",
    "    name: str\n",
    "    age:int\n",
    "    country: str\n",
    "    rating: float\n",
    "    "
   ]
  },
  {
   "cell_type": "code",
   "execution_count": 9,
   "id": "cf12a5ed-fae9-4e74-934d-167ac7446cbf",
   "metadata": {},
   "outputs": [
    {
     "data": {
      "text/plain": [
       "UserProfile(name='Tim', age=37, country='US', rating=3.14)"
      ]
     },
     "execution_count": 9,
     "metadata": {},
     "output_type": "execute_result"
    }
   ],
   "source": [
    "UserProfile(**sample)"
   ]
  },
  {
   "cell_type": "code",
   "execution_count": 15,
   "id": "338f5e13-bf4c-4f31-9d67-e740e22f3805",
   "metadata": {},
   "outputs": [
    {
     "ename": "ValidationError",
     "evalue": "1 validation error for UserProfile\nrating\n  value is not a valid float (type=type_error.float)",
     "output_type": "error",
     "traceback": [
      "\u001b[0;31m---------------------------------------------------------------------------\u001b[0m",
      "\u001b[0;31mValidationError\u001b[0m                           Traceback (most recent call last)",
      "Cell \u001b[0;32mIn [15], line 2\u001b[0m\n\u001b[1;32m      1\u001b[0m sample[\u001b[38;5;124m'\u001b[39m\u001b[38;5;124mrating\u001b[39m\u001b[38;5;124m'\u001b[39m] \u001b[38;5;241m=\u001b[39m \u001b[38;5;124m'\u001b[39m\u001b[38;5;124mfive stars\u001b[39m\u001b[38;5;124m'\u001b[39m\n\u001b[0;32m----> 2\u001b[0m \u001b[43mUserProfile\u001b[49m\u001b[43m(\u001b[49m\u001b[38;5;241;43m*\u001b[39;49m\u001b[38;5;241;43m*\u001b[39;49m\u001b[43msample\u001b[49m\u001b[43m)\u001b[49m\n",
      "File \u001b[0;32m/opt/miniconda3/envs/bento-zoomcamp/lib/python3.9/site-packages/pydantic/main.py:342\u001b[0m, in \u001b[0;36mpydantic.main.BaseModel.__init__\u001b[0;34m()\u001b[0m\n",
      "\u001b[0;31mValidationError\u001b[0m: 1 validation error for UserProfile\nrating\n  value is not a valid float (type=type_error.float)"
     ]
    }
   ],
   "source": [
    "sample['rating'] = 'five stars'\n",
    "UserProfile(**sample)"
   ]
  },
  {
   "cell_type": "markdown",
   "id": "987bbe49-dca7-4ab2-b7ac-f08679eb1db1",
   "metadata": {},
   "source": [
    "## Question 4"
   ]
  },
  {
   "cell_type": "code",
   "execution_count": 16,
   "id": "0ca15daf-6272-4af8-9258-9cdf1a136bde",
   "metadata": {},
   "outputs": [
    {
     "name": "stdout",
     "output_type": "stream",
     "text": [
      "  % Total    % Received % Xferd  Average Speed   Time    Time     Time  Current\n",
      "                                 Dload  Upload   Total   Spent    Left  Speed\n",
      "100  1724  100  1724    0     0   2210      0 --:--:-- --:--:-- --:--:--  2224\n"
     ]
    }
   ],
   "source": [
    "!curl -O https://s3.us-west-2.amazonaws.com/bentoml.com/mlzoomcamp/coolmodel.bentomodel"
   ]
  },
  {
   "cell_type": "code",
   "execution_count": 18,
   "id": "f4ff24b0-f8bb-4d66-97c2-4a620df037ca",
   "metadata": {},
   "outputs": [
    {
     "name": "stdout",
     "output_type": "stream",
     "text": [
      "Model(tag=\"mlzoomcamp_homework:qtzdz3slg6mwwdu5\") imported\n"
     ]
    }
   ],
   "source": [
    "!bentoml models import coolmodel.bentomodel"
   ]
  },
  {
   "cell_type": "code",
   "execution_count": 21,
   "id": "85e9cf59-a553-485d-a0ee-f8829a6338db",
   "metadata": {},
   "outputs": [
    {
     "name": "stdout",
     "output_type": "stream",
     "text": [
      "name: mlzoomcamp_homework\n",
      "version: qtzdz3slg6mwwdu5\n",
      "module: bentoml.sklearn\n",
      "labels: {}\n",
      "options: {}\n",
      "metadata: {}\n",
      "context:\n",
      "  framework_name: sklearn\n",
      "  framework_versions:\n",
      "    scikit-learn: 1.1.1\n",
      "  bentoml_version: 1.0.7\n",
      "  python_version: 3.9.12\n",
      "signatures:\n",
      "  predict:\n",
      "    batchable: false\n",
      "api_version: v1\n",
      "creation_time: '2022-10-13T20:42:14.411084+00:00'\n"
     ]
    }
   ],
   "source": [
    "!cat /Users/patrick/bentoml/models/mlzoomcamp_homework/qtzdz3slg6mwwdu5/model.yaml"
   ]
  },
  {
   "cell_type": "markdown",
   "id": "85f5f6eb-47c1-460d-b55c-a3c08ec92c0f",
   "metadata": {},
   "source": [
    "## Question 5"
   ]
  },
  {
   "cell_type": "code",
   "execution_count": 22,
   "id": "44e4c1f8-bee4-4ded-a8fa-3d990d89ef7a",
   "metadata": {},
   "outputs": [
    {
     "name": "stdout",
     "output_type": "stream",
     "text": [
      "[1]"
     ]
    }
   ],
   "source": [
    "!curl -X 'POST' \\\n",
    "  'http://localhost:3000/classify' \\\n",
    "  -H 'accept: application/json' \\\n",
    "  -H 'Content-Type: application/json' \\\n",
    "  -d '[[6.4,3.5,4.5,1.2]]'"
   ]
  },
  {
   "cell_type": "markdown",
   "id": "9e330b1a-3aa7-42cb-83d1-bb3f80bd2485",
   "metadata": {},
   "source": [
    "## Question 6"
   ]
  },
  {
   "cell_type": "code",
   "execution_count": 23,
   "id": "3f4f8414-457c-4bbe-97f1-9fa5c919a8c2",
   "metadata": {},
   "outputs": [
    {
     "name": "stdout",
     "output_type": "stream",
     "text": [
      "  % Total    % Received % Xferd  Average Speed   Time    Time     Time  Current\n",
      "                                 Dload  Upload   Total   Spent    Left  Speed\n",
      "100  1728  100  1728    0     0   2214      0 --:--:-- --:--:-- --:--:--  2226\n"
     ]
    }
   ],
   "source": [
    "!curl -O https://s3.us-west-2.amazonaws.com/bentoml.com/mlzoomcamp/coolmodel2.bentomodel"
   ]
  },
  {
   "cell_type": "code",
   "execution_count": 24,
   "id": "c26db3a7-74de-460c-ba4d-24e3d89f65a1",
   "metadata": {},
   "outputs": [
    {
     "name": "stdout",
     "output_type": "stream",
     "text": [
      "Model(tag=\"mlzoomcamp_homework:jsi67fslz6txydu5\") imported\n"
     ]
    }
   ],
   "source": [
    "!bentoml models import coolmodel2.bentomodel"
   ]
  },
  {
   "cell_type": "markdown",
   "id": "206346f8-4c09-4783-afc1-9e4d6a99f5b1",
   "metadata": {},
   "source": [
    "Model 1 stalls at about 1200 requests per second."
   ]
  },
  {
   "cell_type": "markdown",
   "id": "2453e725-6592-4ba1-973b-339504af5a0e",
   "metadata": {},
   "source": [
    "Model 2 stalls at about 1350 requests per second."
   ]
  },
  {
   "cell_type": "code",
   "execution_count": null,
   "id": "4ba2de26-4405-4667-b827-27889fddc3fb",
   "metadata": {},
   "outputs": [],
   "source": []
  }
 ],
 "metadata": {
  "kernelspec": {
   "display_name": "Python 3",
   "language": "python",
   "name": "python3"
  },
  "language_info": {
   "codemirror_mode": {
    "name": "ipython",
    "version": 3
   },
   "file_extension": ".py",
   "mimetype": "text/x-python",
   "name": "python",
   "nbconvert_exporter": "python",
   "pygments_lexer": "ipython3",
   "version": "3.9.13"
  }
 },
 "nbformat": 4,
 "nbformat_minor": 5
}
