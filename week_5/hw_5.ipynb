{
 "cells": [
  {
   "cell_type": "markdown",
   "id": "df5ec8ff-9cec-4449-9aec-b94a5cb8e20e",
   "metadata": {},
   "source": [
    "# Homework 5"
   ]
  },
  {
   "cell_type": "code",
   "execution_count": 20,
   "id": "4578062a-afdc-4e8e-bdbd-f9feed20e2bb",
   "metadata": {},
   "outputs": [],
   "source": [
    "import pickle\n",
    "import requests"
   ]
  },
  {
   "cell_type": "markdown",
   "id": "5c0d42bb-ab51-4b32-bd17-297be8bd2aef",
   "metadata": {},
   "source": [
    "## Question 1"
   ]
  },
  {
   "cell_type": "code",
   "execution_count": 1,
   "id": "6a3d33fd-64c1-4d16-bca9-a0b729fa113c",
   "metadata": {},
   "outputs": [
    {
     "name": "stdout",
     "output_type": "stream",
     "text": [
      "\u001b[1mpipenv\u001b[0m, version 2022.10.4\n",
      "\u001b[0m"
     ]
    }
   ],
   "source": [
    "!pipenv --version"
   ]
  },
  {
   "cell_type": "markdown",
   "id": "3bc36be0-0bc3-4f76-be73-b9d55a69e243",
   "metadata": {},
   "source": [
    "## Question 2"
   ]
  },
  {
   "cell_type": "code",
   "execution_count": 3,
   "id": "a937323f-1c83-418f-bc0a-0d1a40e2366d",
   "metadata": {},
   "outputs": [
    {
     "name": "stdout",
     "output_type": "stream",
     "text": [
      "\u001b[32m\u001b[1mInstalling scikit-learn==1.0.2...\u001b[0m\n",
      "\u001b[K\u001b[1mAdding\u001b[0m \u001b[32m\u001b[1mscikit-learn\u001b[0m \u001b[1mto Pipfile's\u001b[0m \u001b[33m\u001b[1m[packages]\u001b[0m\u001b[1m...\u001b[0m\n",
      "\u001b[K\u001b[?25h✔ Installation Succeeded\u001b[0m \n",
      "\u001b[1mPipfile.lock not found, creating...\u001b[0m\n",
      "Locking\u001b[0m \u001b[33m[packages]\u001b[0m dependencies...\u001b[0m\n",
      "\u001b[KBuilding requirements...\n",
      "\u001b[KResolving dependencies...\n",
      "\u001b[K\u001b[?25h\u001b[32m\u001b[22m✔ Success!\u001b[39m\u001b[22m\u001b[0m \n",
      "Locking\u001b[0m \u001b[33m[dev-packages]\u001b[0m dependencies...\u001b[0m\n",
      "\u001b[1mUpdated Pipfile.lock (9169a5)!\u001b[0m\n",
      "\u001b[1mInstalling dependencies from Pipfile.lock (9169a5)...\u001b[0m\n",
      "To activate this project's virtualenv, run \u001b[33mpipenv shell\u001b[0m.\n",
      "Alternatively, run a command inside the virtualenv with \u001b[33mpipenv run\u001b[0m.\n",
      "\u001b[0m"
     ]
    }
   ],
   "source": [
    "!pipenv install scikit-learn==1.0.2"
   ]
  },
  {
   "cell_type": "code",
   "execution_count": 6,
   "id": "e77a1d88-0a7c-4f71-abda-a13a036d7b0c",
   "metadata": {},
   "outputs": [
    {
     "name": "stdout",
     "output_type": "stream",
     "text": [
      "        \"scikit-learn\": {\n",
      "            \"hashes\": [\n",
      "                \"sha256:08ef968f6b72033c16c479c966bf37ccd49b06ea91b765e1cc27afefe723920b\",\n"
     ]
    }
   ],
   "source": [
    "!cat Pipfile.lock | grep scikit-learn -A 2"
   ]
  },
  {
   "cell_type": "markdown",
   "id": "6cf8160b-87ce-44e8-b984-4f5c2af97b51",
   "metadata": {},
   "source": [
    "## Question 3"
   ]
  },
  {
   "cell_type": "code",
   "execution_count": 9,
   "id": "57ac4298-f023-4325-bd1a-8569c8320550",
   "metadata": {},
   "outputs": [],
   "source": [
    "with open('model1.bin', 'rb') as f_in:  \n",
    "    model = pickle.load(f_in)\n",
    "\n",
    "with open('dv.bin', 'rb') as f_in:  \n",
    "    dict_vectorizer = pickle.load(f_in)"
   ]
  },
  {
   "cell_type": "code",
   "execution_count": 16,
   "id": "2cd55e8c-626b-47bd-8c36-d22f817609f4",
   "metadata": {},
   "outputs": [
    {
     "data": {
      "text/plain": [
       "0.16213414434326598"
      ]
     },
     "execution_count": 16,
     "metadata": {},
     "output_type": "execute_result"
    }
   ],
   "source": [
    "sample = dict_vectorizer.transform({\"reports\": 0, \"share\": 0.001694, \"expenditure\": 0.12, \"owner\": \"yes\"})\n",
    "model.predict_proba(sample)[0][1]"
   ]
  },
  {
   "cell_type": "markdown",
   "id": "4224dffe-7d44-40b0-8b8d-60027470c47d",
   "metadata": {},
   "source": [
    "## Question 4"
   ]
  },
  {
   "cell_type": "code",
   "execution_count": 17,
   "id": "bd7c0e1a-3165-4aa4-b507-cd30d2d37e3f",
   "metadata": {},
   "outputs": [
    {
     "name": "stdout",
     "output_type": "stream",
     "text": [
      "\u001b[32m\u001b[1mInstalling flask...\u001b[0m\n",
      "\u001b[K\u001b[1mAdding\u001b[0m \u001b[32m\u001b[1mflask\u001b[0m \u001b[1mto Pipfile's\u001b[0m \u001b[33m\u001b[1m[packages]\u001b[0m\u001b[1m...\u001b[0m\n",
      "\u001b[K\u001b[?25h✔ Installation Succeeded\u001b[0m \n",
      "\u001b[32m\u001b[1mInstalling gunicorn...\u001b[0m\n",
      "\u001b[K\u001b[1mAdding\u001b[0m \u001b[32m\u001b[1mgunicorn\u001b[0m \u001b[1mto Pipfile's\u001b[0m \u001b[33m\u001b[1m[packages]\u001b[0m\u001b[1m...\u001b[0m\n",
      "\u001b[K\u001b[?25h✔ Installation Succeeded\u001b[0m \n",
      "\u001b[33m\u001b[1mPipfile.lock (9169a5) out of date, updating to (318099)...\u001b[0m\n",
      "Locking\u001b[0m \u001b[33m[packages]\u001b[0m dependencies...\u001b[0m\n",
      "\u001b[KBuilding requirements...\n",
      "\u001b[KResolving dependencies...\n",
      "\u001b[K\u001b[?25h\u001b[32m\u001b[22m✔ Success!\u001b[39m\u001b[22m\u001b[0m \n",
      "Locking\u001b[0m \u001b[33m[dev-packages]\u001b[0m dependencies...\u001b[0m\n",
      "\u001b[1mUpdated Pipfile.lock (318099)!\u001b[0m\n",
      "\u001b[1mInstalling dependencies from Pipfile.lock (318099)...\u001b[0m\n",
      "To activate this project's virtualenv, run \u001b[33mpipenv shell\u001b[0m.\n",
      "Alternatively, run a command inside the virtualenv with \u001b[33mpipenv run\u001b[0m.\n",
      "\u001b[0m"
     ]
    }
   ],
   "source": [
    "!pipenv install flask gunicorn"
   ]
  },
  {
   "cell_type": "code",
   "execution_count": 28,
   "id": "ce41a907-0d7e-469b-a46c-84027de979a7",
   "metadata": {},
   "outputs": [
    {
     "data": {
      "text/plain": [
       "{'score': 0.928}"
      ]
     },
     "execution_count": 28,
     "metadata": {},
     "output_type": "execute_result"
    }
   ],
   "source": [
    "url = 'http://0.0.0.0:9696/predict'\n",
    "client = {\"reports\": 0, \"share\": 0.245, \"expenditure\": 3.438, \"owner\": \"yes\"}\n",
    "requests.post(url, json=client).json()"
   ]
  },
  {
   "cell_type": "markdown",
   "id": "f44e2cff-6c44-40f3-a790-c3efcb028103",
   "metadata": {},
   "source": [
    "## Question 5"
   ]
  },
  {
   "cell_type": "code",
   "execution_count": 30,
   "id": "64470e72-758e-4728-b218-0586a48a77ef",
   "metadata": {
    "collapsed": true,
    "jupyter": {
     "outputs_hidden": true
    },
    "tags": []
   },
   "outputs": [
    {
     "name": "stdout",
     "output_type": "stream",
     "text": [
      "3.9.12-slim: Pulling from svizor/zoomcamp-model\n",
      "\n",
      "\u001b[1Ba5fb9032: Pulling fs layer \n",
      "\u001b[1B81b69b9a: Pulling fs layer \n",
      "\u001b[1Ba0a62ab5: Pulling fs layer \n",
      "\u001b[1B28511179: Pulling fs layer \n",
      "\u001b[1B79bc1c47: Pulling fs layer \n",
      "\u001b[1Bc3f7336a: Pulling fs layer \n",
      "\u001b[1BDigest: sha256:10445b40653d5ac17ede84db17f42ae8c4090b347a979372b8102174498b33b9\u001b[7A\u001b[2K\u001b[5A\u001b[2K\u001b[7A\u001b[2K\u001b[7A\u001b[2K\u001b[6A\u001b[2K\u001b[7A\u001b[2K\u001b[5A\u001b[2K\u001b[7A\u001b[2K\u001b[5A\u001b[2K\u001b[7A\u001b[2KDownloading  3.238MB/31.38MB\u001b[7A\u001b[2K\u001b[5A\u001b[2K\u001b[7A\u001b[2K\u001b[5A\u001b[2K\u001b[7A\u001b[2K\u001b[5A\u001b[2K\u001b[7A\u001b[2K\u001b[5A\u001b[2K\u001b[5A\u001b[2K\u001b[5A\u001b[2K\u001b[7A\u001b[2K\u001b[7A\u001b[2K\u001b[5A\u001b[2K\u001b[7A\u001b[2K\u001b[5A\u001b[2K\u001b[5A\u001b[2K\u001b[7A\u001b[2K\u001b[5A\u001b[2K\u001b[5A\u001b[2K\u001b[7A\u001b[2K\u001b[3A\u001b[2K\u001b[5A\u001b[2K\u001b[7A\u001b[2K\u001b[5A\u001b[2K\u001b[3A\u001b[2K\u001b[3A\u001b[2K\u001b[5A\u001b[2K\u001b[3A\u001b[2K\u001b[7A\u001b[2K\u001b[3A\u001b[2K\u001b[7A\u001b[2K\u001b[5A\u001b[2K\u001b[5A\u001b[2K\u001b[7A\u001b[2K\u001b[5A\u001b[2K\u001b[7A\u001b[2K\u001b[5A\u001b[2K\u001b[5A\u001b[2K\u001b[7A\u001b[2K\u001b[7A\u001b[2K\u001b[7A\u001b[2K\u001b[5A\u001b[2K\u001b[5A\u001b[2K\u001b[7A\u001b[2K\u001b[5A\u001b[2K\u001b[7A\u001b[2K\u001b[7A\u001b[2K\u001b[1A\u001b[2K\u001b[1A\u001b[2K\u001b[7A\u001b[2K\u001b[7A\u001b[2K\u001b[7A\u001b[2K\u001b[7A\u001b[2K\u001b[7A\u001b[2K\u001b[7A\u001b[2K\u001b[7A\u001b[2K\u001b[7A\u001b[2K\u001b[7A\u001b[2K\u001b[7A\u001b[2K\u001b[7A\u001b[2K\u001b[7A\u001b[2K\u001b[7A\u001b[2K\u001b[7A\u001b[2K\u001b[7A\u001b[2K\u001b[7A\u001b[2K\u001b[7A\u001b[2K\u001b[7A\u001b[2K\u001b[7A\u001b[2K\u001b[7A\u001b[2K\u001b[7A\u001b[2K\u001b[7A\u001b[2K\u001b[7A\u001b[2K\u001b[7A\u001b[2K\u001b[7A\u001b[2K\u001b[7A\u001b[2K\u001b[7A\u001b[2K\u001b[7A\u001b[2K\u001b[7A\u001b[2K\u001b[7A\u001b[2K\u001b[7A\u001b[2K\u001b[7A\u001b[2K\u001b[7A\u001b[2K\u001b[6A\u001b[2K\u001b[5A\u001b[2K\u001b[5A\u001b[2K\u001b[5A\u001b[2K\u001b[4A\u001b[2K\u001b[3A\u001b[2K\u001b[2A\u001b[2K\u001b[1A\u001b[2K\n",
      "Status: Downloaded newer image for svizor/zoomcamp-model:3.9.12-slim\n",
      "docker.io/svizor/zoomcamp-model:3.9.12-slim\n"
     ]
    }
   ],
   "source": [
    "!docker pull svizor/zoomcamp-model:3.9.12-slim"
   ]
  },
  {
   "cell_type": "code",
   "execution_count": 31,
   "id": "99e7ff03-7b64-4fab-805d-11692d7f1822",
   "metadata": {},
   "outputs": [
    {
     "name": "stdout",
     "output_type": "stream",
     "text": [
      "REPOSITORY              TAG           IMAGE ID       CREATED      SIZE\n",
      "svizor/zoomcamp-model   3.9.12-slim   571a6fdc554b   6 days ago   125MB\n"
     ]
    }
   ],
   "source": [
    "!docker image ls"
   ]
  },
  {
   "cell_type": "markdown",
   "id": "88cb5dde-58a8-4ba5-ad8f-32ba11169372",
   "metadata": {},
   "source": [
    "## Question 6"
   ]
  },
  {
   "cell_type": "code",
   "execution_count": null,
   "id": "e4c9faa0-b98a-489a-abdf-0341efbde18f",
   "metadata": {},
   "outputs": [],
   "source": [
    "!docker run -it -p 9696:9696 credit-card-predict"
   ]
  },
  {
   "cell_type": "code",
   "execution_count": 36,
   "id": "8ed91a4b-6886-4f17-8183-8b10c10d2562",
   "metadata": {},
   "outputs": [
    {
     "data": {
      "text/plain": [
       "{'score': 0.769}"
      ]
     },
     "execution_count": 36,
     "metadata": {},
     "output_type": "execute_result"
    }
   ],
   "source": [
    "url = \"http://0.0.0.0:9696/predict\"\n",
    "client = {\"reports\": 0, \"share\": 0.245, \"expenditure\": 3.438, \"owner\": \"yes\"}\n",
    "requests.post(url, json=client).json()"
   ]
  },
  {
   "cell_type": "code",
   "execution_count": null,
   "id": "cfefd69b-8d4a-4ee6-a176-d20f6a1c94d1",
   "metadata": {},
   "outputs": [],
   "source": []
  }
 ],
 "metadata": {
  "kernelspec": {
   "display_name": "Python 3",
   "language": "python",
   "name": "python3"
  },
  "language_info": {
   "codemirror_mode": {
    "name": "ipython",
    "version": 3
   },
   "file_extension": ".py",
   "mimetype": "text/x-python",
   "name": "python",
   "nbconvert_exporter": "python",
   "pygments_lexer": "ipython3",
   "version": "3.9.13"
  }
 },
 "nbformat": 4,
 "nbformat_minor": 5
}
