{
 "cells": [
  {
   "cell_type": "markdown",
   "id": "1e34e3f4",
   "metadata": {},
   "source": [
    "# Homework 2"
   ]
  },
  {
   "cell_type": "code",
   "execution_count": 1,
   "id": "b8b9899a",
   "metadata": {},
   "outputs": [
    {
     "name": "stdout",
     "output_type": "stream",
     "text": [
      "  % Total    % Received % Xferd  Average Speed   Time    Time     Time  Current\n",
      "                                 Dload  Upload   Total   Spent    Left  Speed\n",
      "100 1390k  100 1390k    0     0  2355k      0 --:--:-- --:--:-- --:--:-- 2364k\n"
     ]
    }
   ],
   "source": [
    "!curl https://raw.githubusercontent.com/alexeygrigorev/datasets/master/housing.csv >> data/data.csv"
   ]
  },
  {
   "cell_type": "code",
   "execution_count": 27,
   "id": "3ac90fde",
   "metadata": {},
   "outputs": [],
   "source": [
    "import pandas as pd\n",
    "import seaborn as sns\n",
    "import numpy as np"
   ]
  },
  {
   "cell_type": "code",
   "execution_count": 45,
   "id": "12f5233f",
   "metadata": {},
   "outputs": [],
   "source": [
    "df = pd.read_csv('data/data.csv')"
   ]
  },
  {
   "cell_type": "code",
   "execution_count": 29,
   "id": "cc6e2a6f",
   "metadata": {},
   "outputs": [
    {
     "data": {
      "text/html": [
       "<div>\n",
       "<style scoped>\n",
       "    .dataframe tbody tr th:only-of-type {\n",
       "        vertical-align: middle;\n",
       "    }\n",
       "\n",
       "    .dataframe tbody tr th {\n",
       "        vertical-align: top;\n",
       "    }\n",
       "\n",
       "    .dataframe thead th {\n",
       "        text-align: right;\n",
       "    }\n",
       "</style>\n",
       "<table border=\"1\" class=\"dataframe\">\n",
       "  <thead>\n",
       "    <tr style=\"text-align: right;\">\n",
       "      <th></th>\n",
       "      <th>longitude</th>\n",
       "      <th>latitude</th>\n",
       "      <th>housing_median_age</th>\n",
       "      <th>total_rooms</th>\n",
       "      <th>total_bedrooms</th>\n",
       "      <th>population</th>\n",
       "      <th>households</th>\n",
       "      <th>median_income</th>\n",
       "      <th>median_house_value</th>\n",
       "      <th>ocean_proximity</th>\n",
       "    </tr>\n",
       "  </thead>\n",
       "  <tbody>\n",
       "    <tr>\n",
       "      <th>0</th>\n",
       "      <td>-122.23</td>\n",
       "      <td>37.88</td>\n",
       "      <td>41.0</td>\n",
       "      <td>880.0</td>\n",
       "      <td>129.0</td>\n",
       "      <td>322.0</td>\n",
       "      <td>126.0</td>\n",
       "      <td>8.3252</td>\n",
       "      <td>452600.0</td>\n",
       "      <td>NEAR BAY</td>\n",
       "    </tr>\n",
       "    <tr>\n",
       "      <th>1</th>\n",
       "      <td>-122.22</td>\n",
       "      <td>37.86</td>\n",
       "      <td>21.0</td>\n",
       "      <td>7099.0</td>\n",
       "      <td>1106.0</td>\n",
       "      <td>2401.0</td>\n",
       "      <td>1138.0</td>\n",
       "      <td>8.3014</td>\n",
       "      <td>358500.0</td>\n",
       "      <td>NEAR BAY</td>\n",
       "    </tr>\n",
       "    <tr>\n",
       "      <th>2</th>\n",
       "      <td>-122.24</td>\n",
       "      <td>37.85</td>\n",
       "      <td>52.0</td>\n",
       "      <td>1467.0</td>\n",
       "      <td>190.0</td>\n",
       "      <td>496.0</td>\n",
       "      <td>177.0</td>\n",
       "      <td>7.2574</td>\n",
       "      <td>352100.0</td>\n",
       "      <td>NEAR BAY</td>\n",
       "    </tr>\n",
       "    <tr>\n",
       "      <th>3</th>\n",
       "      <td>-122.25</td>\n",
       "      <td>37.85</td>\n",
       "      <td>52.0</td>\n",
       "      <td>1274.0</td>\n",
       "      <td>235.0</td>\n",
       "      <td>558.0</td>\n",
       "      <td>219.0</td>\n",
       "      <td>5.6431</td>\n",
       "      <td>341300.0</td>\n",
       "      <td>NEAR BAY</td>\n",
       "    </tr>\n",
       "    <tr>\n",
       "      <th>4</th>\n",
       "      <td>-122.25</td>\n",
       "      <td>37.85</td>\n",
       "      <td>52.0</td>\n",
       "      <td>1627.0</td>\n",
       "      <td>280.0</td>\n",
       "      <td>565.0</td>\n",
       "      <td>259.0</td>\n",
       "      <td>3.8462</td>\n",
       "      <td>342200.0</td>\n",
       "      <td>NEAR BAY</td>\n",
       "    </tr>\n",
       "  </tbody>\n",
       "</table>\n",
       "</div>"
      ],
      "text/plain": [
       "   longitude  latitude  housing_median_age  total_rooms  total_bedrooms  \\\n",
       "0    -122.23     37.88                41.0        880.0           129.0   \n",
       "1    -122.22     37.86                21.0       7099.0          1106.0   \n",
       "2    -122.24     37.85                52.0       1467.0           190.0   \n",
       "3    -122.25     37.85                52.0       1274.0           235.0   \n",
       "4    -122.25     37.85                52.0       1627.0           280.0   \n",
       "\n",
       "   population  households  median_income  median_house_value ocean_proximity  \n",
       "0       322.0       126.0         8.3252            452600.0        NEAR BAY  \n",
       "1      2401.0      1138.0         8.3014            358500.0        NEAR BAY  \n",
       "2       496.0       177.0         7.2574            352100.0        NEAR BAY  \n",
       "3       558.0       219.0         5.6431            341300.0        NEAR BAY  \n",
       "4       565.0       259.0         3.8462            342200.0        NEAR BAY  "
      ]
     },
     "execution_count": 29,
     "metadata": {},
     "output_type": "execute_result"
    }
   ],
   "source": [
    "df.head()"
   ]
  },
  {
   "cell_type": "code",
   "execution_count": 30,
   "id": "d6b193e1",
   "metadata": {},
   "outputs": [
    {
     "data": {
      "text/plain": [
       "<AxesSubplot:xlabel='median_house_value', ylabel='Count'>"
      ]
     },
     "execution_count": 30,
     "metadata": {},
     "output_type": "execute_result"
    },
    {
     "data": {
      "image/png": "[encoded data removed]",
      "text/plain": [
       "<Figure size 432x288 with 1 Axes>"
      ]
     },
     "metadata": {
      "needs_background": "light"
     },
     "output_type": "display_data"
    }
   ],
   "source": [
    "sns.histplot(data=df, x='median_house_value', bins=100)"
   ]
  },
  {
   "cell_type": "markdown",
   "id": "4c9a07ef",
   "metadata": {},
   "source": [
    "You could consider this a long tail."
   ]
  },
  {
   "cell_type": "code",
   "execution_count": 31,
   "id": "5ac43f35",
   "metadata": {},
   "outputs": [
    {
     "data": {
      "text/plain": [
       "<AxesSubplot:xlabel='median_house_value', ylabel='Count'>"
      ]
     },
     "execution_count": 31,
     "metadata": {},
     "output_type": "execute_result"
    },
    {
     "data": {
      "image/png": "[encoded data removed]",
      "text/plain": [
       "<Figure size 432x288 with 1 Axes>"
      ]
     },
     "metadata": {
      "needs_background": "light"
     },
     "output_type": "display_data"
    }
   ],
   "source": [
    "log_val = np.log1p(df.median_house_value)\n",
    "sns.histplot(log_val)"
   ]
  },
  {
   "cell_type": "code",
   "execution_count": 32,
   "id": "89bdb867",
   "metadata": {},
   "outputs": [
    {
     "data": {
      "text/plain": [
       "Index(['longitude', 'latitude', 'housing_median_age', 'total_rooms',\n",
       "       'total_bedrooms', 'population', 'households', 'median_income',\n",
       "       'median_house_value', 'ocean_proximity'],\n",
       "      dtype='object')"
      ]
     },
     "execution_count": 32,
     "metadata": {},
     "output_type": "execute_result"
    }
   ],
   "source": [
    "df.columns"
   ]
  },
  {
   "cell_type": "code",
   "execution_count": 33,
   "id": "8ac848ec",
   "metadata": {},
   "outputs": [],
   "source": [
    "features = ['longitude', 'latitude', 'housing_median_age', 'total_rooms', 'total_bedrooms', 'population', 'households', 'median_income', 'median_house_value']\n",
    "df = df[features]"
   ]
  },
  {
   "cell_type": "code",
   "execution_count": 34,
   "id": "66662fd3",
   "metadata": {},
   "outputs": [
    {
     "data": {
      "text/html": [
       "<div>\n",
       "<style scoped>\n",
       "    .dataframe tbody tr th:only-of-type {\n",
       "        vertical-align: middle;\n",
       "    }\n",
       "\n",
       "    .dataframe tbody tr th {\n",
       "        vertical-align: top;\n",
       "    }\n",
       "\n",
       "    .dataframe thead th {\n",
       "        text-align: right;\n",
       "    }\n",
       "</style>\n",
       "<table border=\"1\" class=\"dataframe\">\n",
       "  <thead>\n",
       "    <tr style=\"text-align: right;\">\n",
       "      <th></th>\n",
       "      <th>longitude</th>\n",
       "      <th>latitude</th>\n",
       "      <th>housing_median_age</th>\n",
       "      <th>total_rooms</th>\n",
       "      <th>total_bedrooms</th>\n",
       "      <th>population</th>\n",
       "      <th>households</th>\n",
       "      <th>median_income</th>\n",
       "      <th>median_house_value</th>\n",
       "    </tr>\n",
       "  </thead>\n",
       "  <tbody>\n",
       "    <tr>\n",
       "      <th>0</th>\n",
       "      <td>-122.23</td>\n",
       "      <td>37.88</td>\n",
       "      <td>41.0</td>\n",
       "      <td>880.0</td>\n",
       "      <td>129.0</td>\n",
       "      <td>322.0</td>\n",
       "      <td>126.0</td>\n",
       "      <td>8.3252</td>\n",
       "      <td>452600.0</td>\n",
       "    </tr>\n",
       "    <tr>\n",
       "      <th>1</th>\n",
       "      <td>-122.22</td>\n",
       "      <td>37.86</td>\n",
       "      <td>21.0</td>\n",
       "      <td>7099.0</td>\n",
       "      <td>1106.0</td>\n",
       "      <td>2401.0</td>\n",
       "      <td>1138.0</td>\n",
       "      <td>8.3014</td>\n",
       "      <td>358500.0</td>\n",
       "    </tr>\n",
       "    <tr>\n",
       "      <th>2</th>\n",
       "      <td>-122.24</td>\n",
       "      <td>37.85</td>\n",
       "      <td>52.0</td>\n",
       "      <td>1467.0</td>\n",
       "      <td>190.0</td>\n",
       "      <td>496.0</td>\n",
       "      <td>177.0</td>\n",
       "      <td>7.2574</td>\n",
       "      <td>352100.0</td>\n",
       "    </tr>\n",
       "    <tr>\n",
       "      <th>3</th>\n",
       "      <td>-122.25</td>\n",
       "      <td>37.85</td>\n",
       "      <td>52.0</td>\n",
       "      <td>1274.0</td>\n",
       "      <td>235.0</td>\n",
       "      <td>558.0</td>\n",
       "      <td>219.0</td>\n",
       "      <td>5.6431</td>\n",
       "      <td>341300.0</td>\n",
       "    </tr>\n",
       "    <tr>\n",
       "      <th>4</th>\n",
       "      <td>-122.25</td>\n",
       "      <td>37.85</td>\n",
       "      <td>52.0</td>\n",
       "      <td>1627.0</td>\n",
       "      <td>280.0</td>\n",
       "      <td>565.0</td>\n",
       "      <td>259.0</td>\n",
       "      <td>3.8462</td>\n",
       "      <td>342200.0</td>\n",
       "    </tr>\n",
       "  </tbody>\n",
       "</table>\n",
       "</div>"
      ],
      "text/plain": [
       "   longitude  latitude  housing_median_age  total_rooms  total_bedrooms  \\\n",
       "0    -122.23     37.88                41.0        880.0           129.0   \n",
       "1    -122.22     37.86                21.0       7099.0          1106.0   \n",
       "2    -122.24     37.85                52.0       1467.0           190.0   \n",
       "3    -122.25     37.85                52.0       1274.0           235.0   \n",
       "4    -122.25     37.85                52.0       1627.0           280.0   \n",
       "\n",
       "   population  households  median_income  median_house_value  \n",
       "0       322.0       126.0         8.3252            452600.0  \n",
       "1      2401.0      1138.0         8.3014            358500.0  \n",
       "2       496.0       177.0         7.2574            352100.0  \n",
       "3       558.0       219.0         5.6431            341300.0  \n",
       "4       565.0       259.0         3.8462            342200.0  "
      ]
     },
     "execution_count": 34,
     "metadata": {},
     "output_type": "execute_result"
    }
   ],
   "source": [
    "df.head()"
   ]
  },
  {
   "cell_type": "markdown",
   "id": "4a5c68a5",
   "metadata": {},
   "source": [
    "## Question 1"
   ]
  },
  {
   "cell_type": "code",
   "execution_count": 35,
   "id": "741fb406",
   "metadata": {},
   "outputs": [
    {
     "data": {
      "text/plain": [
       "total_bedrooms    207\n",
       "dtype: int64"
      ]
     },
     "execution_count": 35,
     "metadata": {},
     "output_type": "execute_result"
    }
   ],
   "source": [
    "df.isnull().sum()[df.isnull().sum() > 0]"
   ]
  },
  {
   "cell_type": "markdown",
   "id": "73283873",
   "metadata": {},
   "source": [
    "## Question 2"
   ]
  },
  {
   "cell_type": "code",
   "execution_count": 36,
   "id": "5837d9db",
   "metadata": {},
   "outputs": [
    {
     "data": {
      "text/plain": [
       "1166.0"
      ]
     },
     "execution_count": 36,
     "metadata": {},
     "output_type": "execute_result"
    }
   ],
   "source": [
    "df.population.median()"
   ]
  },
  {
   "cell_type": "markdown",
   "id": "625da976",
   "metadata": {},
   "source": [
    "## Question 3"
   ]
  },
  {
   "cell_type": "code",
   "execution_count": 114,
   "id": "4d111ca1",
   "metadata": {},
   "outputs": [],
   "source": [
    "\n",
    "def get_split_indices(f_val, f_test, n_rows):\n",
    "    \n",
    "    n_val = int(f_val * n_rows)\n",
    "    n_test = int(f_test * n_rows)\n",
    "    n_train = n_rows - n_val - n_test\n",
    "    \n",
    "    return n_train, n_val, n_test\n",
    "\n",
    "\n",
    "def shuffle_idx(df, seed):\n",
    "    \n",
    "    np.random.seed(seed)\n",
    "    idx = np.arange(len(df.index))\n",
    "    np.random.shuffle(idx)\n",
    "\n",
    "    return idx\n",
    "      \n",
    "\n",
    "def split(df, log=False, seed=42):\n",
    "    df = df.copy()\n",
    "    \n",
    "    features = ['longitude', 'latitude', 'housing_median_age', 'total_rooms', 'total_bedrooms', 'population', 'households', 'median_income', 'median_house_value']\n",
    "    df = df[features]\n",
    "\n",
    "    idx = shuffle_idx(df, seed=seed)\n",
    "    \n",
    "    n_train, n_val, n_test = get_split_indices(0.2, 0.2, len(df.index))\n",
    "\n",
    "    df_train = df.iloc[idx[:n_train]].reset_index(drop=True)\n",
    "    df_val = df.iloc[idx[n_train:n_train+n_val]].reset_index(drop=True)\n",
    "    df_test = df.iloc[idx[n_train+n_val:]].reset_index(drop=True)\n",
    "\n",
    "    y_train = df_train.median_house_value.values\n",
    "    y_val = df_val.median_house_value.values\n",
    "    y_test = df_test.median_house_value.values\n",
    "    \n",
    "    if log:\n",
    "        y_train = np.log1p(y_train)\n",
    "        y_val = np.log1p(y_val)\n",
    "        y_test = np.log1p(y_test)\n",
    "        \n",
    "    del df_train['median_house_value']\n",
    "    del df_val['median_house_value']\n",
    "    del df_test['median_house_value']\n",
    "        \n",
    "    return df_train, df_val, df_test, y_train, y_val, y_test\n",
    "    "
   ]
  },
  {
   "cell_type": "code",
   "execution_count": 115,
   "id": "6f4e45e5",
   "metadata": {},
   "outputs": [],
   "source": [
    "df_train, df_val, df_test, y_train, y_val, y_test = split(df, log=True)"
   ]
  },
  {
   "cell_type": "code",
   "execution_count": 116,
   "id": "7cea88ab-04d7-44f4-94bb-ebafa35deec4",
   "metadata": {},
   "outputs": [],
   "source": [
    "def fill_missing_values(df_train, df_val, df_test, how):\n",
    "    \n",
    "    feature = 'total_bedrooms'\n",
    "    \n",
    "    if how == 'mean':\n",
    "        new_val = df_train[feature].mean()\n",
    "    elif how == 'zero':\n",
    "        new_val = 0\n",
    "    \n",
    "    df_train[feature] = df_train[feature].fillna(new_val)\n",
    "    df_val[feature] = df_val[feature].fillna(new_val)\n",
    "    df_test[feature] = df_test[feature].fillna(new_val)\n",
    "    \n",
    "    return df_train, df_val, df_test\n",
    "    "
   ]
  },
  {
   "cell_type": "code",
   "execution_count": 117,
   "id": "c94a877f-28ce-4d6c-951e-5a13045ac986",
   "metadata": {},
   "outputs": [],
   "source": [
    "# From https://github.com/alexeygrigorev/mlbookcamp-code/blob/master/course-zoomcamp/02-regression/notebook.ipynb\n",
    "\n",
    "\n",
    "def train_linear_regression_reg(X, y, r=0.001):\n",
    "    ones = np.ones(X.shape[0])\n",
    "    X = np.column_stack([ones, X])\n",
    "\n",
    "    XTX = X.T.dot(X)\n",
    "    XTX = XTX + r * np.eye(XTX.shape[0])\n",
    "\n",
    "    XTX_inv = np.linalg.inv(XTX)\n",
    "    w_full = XTX_inv.dot(X.T).dot(y)\n",
    "    \n",
    "    return w_full[0], w_full[1:]\n",
    "\n",
    "def rmse(y, y_pred):\n",
    "    se = (y - y_pred) ** 2\n",
    "    mse = se.mean()\n",
    "    return np.sqrt(mse)"
   ]
  },
  {
   "cell_type": "code",
   "execution_count": 118,
   "id": "e4ed40b1-d627-4a16-b0a1-ae63c8e9c48f",
   "metadata": {},
   "outputs": [
    {
     "name": "stdout",
     "output_type": "stream",
     "text": [
      "RMSE mean replaced missing values: \t0.33\n",
      "RMSE zero replaced missing values: \t0.33\n"
     ]
    }
   ],
   "source": [
    "df = pd.read_csv('data/data.csv')\n",
    "df_train, df_val, df_test, y_train, y_val, y_test = split(df, log=True)\n",
    "df_train, df_val, df_test = fill_missing_values(df_train, df_val, df_test, 'mean')\n",
    "\n",
    "bias, weights = train_linear_regression_reg(df_train.values, y_train, r=0)\n",
    "preds_val = bias + df_val.values.dot(weights)\n",
    "print(f'RMSE mean replaced missing values: \\t{round(rmse(y_val, preds_val), 2)}')\n",
    "\n",
    "df = pd.read_csv('data/data.csv')\n",
    "df_train, df_val, df_test, y_train, y_val, y_test = split(df, log=True)\n",
    "df_train, df_val, df_test = fill_missing_values(df_train, df_val, df_test, 'zero')\n",
    "\n",
    "bias, weights = train_linear_regression_reg(df_train.values, y_train, r=0)\n",
    "preds_val = bias + df_val.values.dot(weights)\n",
    "print(f'RMSE zero replaced missing values: \\t{round(rmse(y_val, preds_val), 2)}')\n"
   ]
  },
  {
   "cell_type": "markdown",
   "id": "907034c8-9a4a-457a-9da0-d00be46c613a",
   "metadata": {},
   "source": [
    "Conclusion: both options are equally good."
   ]
  },
  {
   "cell_type": "markdown",
   "id": "5592bde5-76e5-4150-ad87-c88c1042afe3",
   "metadata": {},
   "source": [
    "## Question 4"
   ]
  },
  {
   "cell_type": "code",
   "execution_count": 119,
   "id": "eeea7ff6-02db-4244-90eb-0c18f5758c21",
   "metadata": {},
   "outputs": [
    {
     "name": "stdout",
     "output_type": "stream",
     "text": [
      "RMSE: 0.33, r=0\n",
      "RMSE: 0.33, r=1e-06\n",
      "RMSE: 0.33, r=0.0001\n",
      "RMSE: 0.33, r=0.001\n",
      "RMSE: 0.33, r=0.01\n",
      "RMSE: 0.33, r=0.1\n",
      "RMSE: 0.33, r=1\n",
      "RMSE: 0.34, r=5\n",
      "RMSE: 0.34, r=10\n"
     ]
    }
   ],
   "source": [
    "r_values = [0, 0.000001, 0.0001, 0.001, 0.01, 0.1, 1, 5, 10]\n",
    "\n",
    "df = pd.read_csv('data/data.csv')\n",
    "df_train, df_val, df_test, y_train, y_val, y_test = split(df, log=True)\n",
    "df_train, df_val, df_test = fill_missing_values(df_train, df_val, df_test, 'zero')\n",
    "\n",
    "for r in r_values:\n",
    "    bias, weights = train_linear_regression_reg(df_train.values, y_train, r=r)\n",
    "    preds_val = bias + df_val.values.dot(weights)\n",
    "    print(f'RMSE: {round(rmse(y_val, preds_val), 2)}, r={r}')"
   ]
  },
  {
   "cell_type": "markdown",
   "id": "0a309fdc-7b9b-452f-b0e0-a3b30a49bcc2",
   "metadata": {},
   "source": [
    "Smallest rmse and r: 1e-06"
   ]
  },
  {
   "cell_type": "markdown",
   "id": "ac20872c-9094-443a-86fe-c61043ea295d",
   "metadata": {},
   "source": [
    "## Question 5"
   ]
  },
  {
   "cell_type": "code",
   "execution_count": 122,
   "id": "c5b2913f-15a9-479d-a7cb-c22ea80f43cc",
   "metadata": {},
   "outputs": [
    {
     "name": "stdout",
     "output_type": "stream",
     "text": [
      "RMSE: 0.34, seed=0\n",
      "RMSE: 0.34, seed=1\n",
      "RMSE: 0.33, seed=2\n",
      "RMSE: 0.34, seed=3\n",
      "RMSE: 0.34, seed=4\n",
      "RMSE: 0.34, seed=5\n",
      "RMSE: 0.35, seed=6\n",
      "RMSE: 0.34, seed=7\n",
      "RMSE: 0.35, seed=8\n",
      "RMSE: 0.34, seed=9\n",
      "RMSE standard deviation: 0.005\n"
     ]
    }
   ],
   "source": [
    "seeds = np.arange(10)\n",
    "\n",
    "scores = []\n",
    "\n",
    "for seed in seeds:\n",
    "    df = pd.read_csv('data/data.csv')\n",
    "    df_train, df_val, df_test, y_train, y_val, y_test = split(df, log=True, seed=seed)\n",
    "    df_train, df_val, df_test = fill_missing_values(df_train, df_val, df_test, 'zero')\n",
    "\n",
    "    bias, weights = train_linear_regression_reg(df_train.values, y_train, r=0)\n",
    "    preds_val = bias + df_val.values.dot(weights)\n",
    "    \n",
    "    score = round(rmse(y_val, preds_val), 2)\n",
    "    print(f'RMSE: {score}, seed={seed}')\n",
    "    scores.append(score)\n",
    "                   \n",
    "print(f'RMSE standard deviation: {round(np.std(scores), 3)}')"
   ]
  },
  {
   "cell_type": "markdown",
   "id": "9ae894e7-6823-4418-8e39-f9dae3dc27ba",
   "metadata": {},
   "source": [
    "## Question 6"
   ]
  },
  {
   "cell_type": "code",
   "execution_count": 124,
   "id": "5f5cd3d6-58e1-431a-8ca9-a3bc915a65d6",
   "metadata": {},
   "outputs": [
    {
     "name": "stdout",
     "output_type": "stream",
     "text": [
      "Trained on train + val, RMSE: 0.35, seed=9, r=0.001\n"
     ]
    }
   ],
   "source": [
    "r = 0.001\n",
    "seed = 9\n",
    "\n",
    "df = pd.read_csv('data/data.csv')\n",
    "df_train, df_val, df_test, y_train, y_val, y_test = split(df, log=True, seed=seed)\n",
    "df_train, df_val, df_test = fill_missing_values(df_train, df_val, df_test, 'zero')\n",
    "\n",
    "df_train_full = pd.concat([df_train, df_val])\n",
    "y_train_full = np.concatenate([y_train, y_val])\n",
    "\n",
    "bias, weights = train_linear_regression_reg(df_train_full.values, y_train_full, r=r)\n",
    "preds_test = bias + df_test.values.dot(weights)\n",
    "\n",
    "score = round(rmse(y_test, preds_test), 2)\n",
    "print(f'Trained on train + val, RMSE: {score}, seed={seed}, r={r}')"
   ]
  },
  {
   "cell_type": "code",
   "execution_count": null,
   "id": "a68551e8-1b06-4217-8e64-4a8bb60465b2",
   "metadata": {},
   "outputs": [],
   "source": []
  }
 ],
 "metadata": {
  "kernelspec": {
   "display_name": "Python 3",
   "language": "python",
   "name": "python3"
  },
  "language_info": {
   "codemirror_mode": {
    "name": "ipython",
    "version": 3
   },
   "file_extension": ".py",
   "mimetype": "text/x-python",
   "name": "python",
   "nbconvert_exporter": "python",
   "pygments_lexer": "ipython3",
   "version": "3.9.13"
  },
  "vscode": {
   "interpreter": {
    "hash": "534cd37feadae63edbd1d76ee7605c25f8931687006409bb4f94689dd24a9518"
   }
  }
 },
 "nbformat": 4,
 "nbformat_minor": 5
}
