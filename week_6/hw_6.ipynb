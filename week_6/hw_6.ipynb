{
 "cells": [
  {
   "cell_type": "markdown",
   "id": "b1ad5b17-3053-48f2-b01f-5f962c757c04",
   "metadata": {},
   "source": [
    "# Homework 6"
   ]
  },
  {
   "cell_type": "code",
   "execution_count": 80,
   "id": "b3491247-351d-4478-9065-38c997bbeee7",
   "metadata": {},
   "outputs": [
    {
     "name": "stderr",
     "output_type": "stream",
     "text": [
      "/opt/miniconda3/envs/ml-zoomcamp/lib/python3.9/site-packages/xgboost/compat.py:36: FutureWarning: pandas.Int64Index is deprecated and will be removed from pandas in a future version. Use pandas.Index with the appropriate dtype instead.\n",
      "  from pandas import MultiIndex, Int64Index\n"
     ]
    }
   ],
   "source": [
    "import pandas as pd\n",
    "import numpy as np\n",
    "\n",
    "import matplotlib.pyplot as plt\n",
    "\n",
    "\n",
    "from sklearn.model_selection import train_test_split\n",
    "from sklearn.feature_extraction import DictVectorizer\n",
    "\n",
    "from sklearn.tree import DecisionTreeRegressor\n",
    "from sklearn.tree import export_text\n",
    "\n",
    "from sklearn.ensemble import RandomForestRegressor\n",
    "\n",
    "from sklearn.metrics import mean_squared_error\n",
    "\n",
    "import xgboost\n"
   ]
  },
  {
   "cell_type": "code",
   "execution_count": 15,
   "id": "12919dc8-4fda-46c5-9797-38f185c0dde6",
   "metadata": {},
   "outputs": [],
   "source": [
    "df = pd.read_csv('data/data.csv')\n",
    "\n",
    "# Only use the following columns.\n",
    "columns = ['latitude', 'longitude', 'housing_median_age', 'total_rooms', 'total_bedrooms', 'population', 'households', 'median_income', 'median_house_value', 'ocean_proximity']\n",
    "df = df[columns]\n",
    "\n",
    "# Fill NAs with 0.\n",
    "df = df.fillna(value=0)\n",
    "\n",
    "# Apply the log tranform to median_house_value.\n",
    "df.median_house_value = np.log1p(df.median_house_value)\n",
    "\n",
    "# Do train/validation/test split with 60%/20%/20% distribution.\n",
    "train_full, test = train_test_split(df, test_size=0.2, random_state=1)\n",
    "train, val = train_test_split(train_full, test_size=0.25, random_state=1)\n",
    "\n",
    "train = train.reset_index(drop=True)\n",
    "y_train = train.median_house_value\n",
    "del train['median_house_value']\n",
    "\n",
    "val = val.reset_index(drop=True)\n",
    "y_val = val.median_house_value\n",
    "del val['median_house_value']\n",
    "\n",
    "test = test.reset_index(drop=True)\n",
    "y_test = test.median_house_value\n",
    "del test['median_house_value']\n",
    "\n",
    "# Use DictVectorizer to turn the dataframe into matrices.\n",
    "dv = DictVectorizer(sparse=False)\n",
    "X_train = dv.fit_transform(train.to_dict(orient='records'))\n",
    "X_val = dv.transform(val.to_dict(orient='records'))\n",
    "X_test = dv.transform(test.to_dict(orient='records'))\n"
   ]
  },
  {
   "cell_type": "markdown",
   "id": "cf02a241-5ab8-4d2d-9e16-bfc1c006fd7e",
   "metadata": {},
   "source": [
    "## Question 1\n"
   ]
  },
  {
   "cell_type": "code",
   "execution_count": 20,
   "id": "d2bd648e-c180-4341-b59f-2eecbb135cbe",
   "metadata": {},
   "outputs": [
    {
     "data": {
      "text/plain": [
       "DecisionTreeRegressor(max_depth=1)"
      ]
     },
     "execution_count": 20,
     "metadata": {},
     "output_type": "execute_result"
    }
   ],
   "source": [
    "model = DecisionTreeRegressor(max_depth=1)\n",
    "model.fit(X=X_train, y=y_train)"
   ]
  },
  {
   "cell_type": "code",
   "execution_count": 25,
   "id": "b8e19c2c-ec95-4833-af3c-4c0b4d99e7c4",
   "metadata": {},
   "outputs": [
    {
     "name": "stdout",
     "output_type": "stream",
     "text": [
      "|--- ocean_proximity=INLAND <= 0.50\n",
      "|   |--- value: [12.31]\n",
      "|--- ocean_proximity=INLAND >  0.50\n",
      "|   |--- value: [11.61]\n",
      "\n"
     ]
    },
    {
     "name": "stderr",
     "output_type": "stream",
     "text": [
      "/opt/miniconda3/envs/ml-zoomcamp/lib/python3.9/site-packages/sklearn/utils/deprecation.py:87: FutureWarning: Function get_feature_names is deprecated; get_feature_names is deprecated in 1.0 and will be removed in 1.2. Please use get_feature_names_out instead.\n",
      "  warnings.warn(msg, category=FutureWarning)\n"
     ]
    }
   ],
   "source": [
    "print(export_text(model, feature_names=dv.get_feature_names()))"
   ]
  },
  {
   "cell_type": "markdown",
   "id": "0168f1c6-c298-4005-81a9-6ec567f46723",
   "metadata": {},
   "source": [
    "## Question 2"
   ]
  },
  {
   "cell_type": "code",
   "execution_count": 28,
   "id": "977a4350-98ea-4946-8422-3116812685f9",
   "metadata": {},
   "outputs": [
    {
     "data": {
      "text/plain": [
       "RandomForestRegressor(n_estimators=10, n_jobs=-1, random_state=1)"
      ]
     },
     "execution_count": 28,
     "metadata": {},
     "output_type": "execute_result"
    }
   ],
   "source": [
    "model = RandomForestRegressor(n_estimators=10, random_state=1, n_jobs=-1)\n",
    "model.fit(X_train, y_train)"
   ]
  },
  {
   "cell_type": "code",
   "execution_count": 33,
   "id": "cdb4b9b2-b5b2-4a89-a118-3637e8d8d74e",
   "metadata": {},
   "outputs": [],
   "source": [
    "preds_val = model.predict(X_val)"
   ]
  },
  {
   "cell_type": "code",
   "execution_count": 37,
   "id": "a20aafad-c5ca-408f-81a6-76a88f07aa8d",
   "metadata": {},
   "outputs": [
    {
     "data": {
      "text/plain": [
       "0.25"
      ]
     },
     "execution_count": 37,
     "metadata": {},
     "output_type": "execute_result"
    }
   ],
   "source": [
    "round(mean_squared_error(y_val, preds_val, squared=False), 2)"
   ]
  },
  {
   "cell_type": "markdown",
   "id": "1c4038d8-51e7-464e-afb3-0ae5615aafbb",
   "metadata": {},
   "source": [
    "## Question 3"
   ]
  },
  {
   "cell_type": "code",
   "execution_count": 51,
   "id": "eaf75d8b-116d-4b2e-b192-e4ba2a262e9d",
   "metadata": {},
   "outputs": [
    {
     "name": "stdout",
     "output_type": "stream",
     "text": [
      "n_estimators -> RMSE      \n",
      "10         -> 0.2458    \n",
      "20         -> 0.2392    \n",
      "30         -> 0.2357    \n",
      "40         -> 0.2345    \n",
      "50         -> 0.2331    \n",
      "60         -> 0.2329    \n",
      "70         -> 0.2325    \n",
      "80         -> 0.2326    \n",
      "90         -> 0.2322    \n",
      "100        -> 0.2319    \n",
      "110        -> 0.2315    \n",
      "120        -> 0.2316    \n",
      "130        -> 0.2317    \n",
      "140        -> 0.2317    \n",
      "150        -> 0.2317    \n",
      "160        -> 0.2317    \n",
      "170        -> 0.2316    \n",
      "180        -> 0.2318    \n",
      "190        -> 0.2318    \n",
      "200        -> 0.2317    \n"
     ]
    }
   ],
   "source": [
    "rmses = []\n",
    "n_est = np.arange(10, 210, 10)\n",
    "\n",
    "print(f\"{'n_estimators' : >10} -> {'RMSE': <10}\")\n",
    "for n_trees in n_est:\n",
    "    model = RandomForestRegressor(n_estimators=n_trees, random_state=1, n_jobs=-1)\n",
    "    model.fit(X_train, y_train)\n",
    "    \n",
    "    preds_val = model.predict(X_val)\n",
    "    rmse = round(mean_squared_error(y_val, preds_val, squared=False), 4)\n",
    "    rmses.append(rmse)\n",
    "\n",
    "    print(f\"{n_trees : <10} -> {rmse : <10}\")"
   ]
  },
  {
   "cell_type": "code",
   "execution_count": 52,
   "id": "7d6f7f9f-559f-4884-8a54-189203992d74",
   "metadata": {},
   "outputs": [
    {
     "data": {
      "text/plain": [
       "[<matplotlib.lines.Line2D at 0x15b659040>]"
      ]
     },
     "execution_count": 52,
     "metadata": {},
     "output_type": "execute_result"
    },
    {
     "data": {
      "image/png": "[encoded data removed]",
      "text/plain": [
       "<Figure size 432x288 with 1 Axes>"
      ]
     },
     "metadata": {
      "needs_background": "light"
     },
     "output_type": "display_data"
    }
   ],
   "source": [
    "plt.plot(n_est, rmses)"
   ]
  },
  {
   "cell_type": "markdown",
   "id": "b39ce126-bb0b-41b1-a432-b20a2085f8ed",
   "metadata": {},
   "source": [
    "## Question 4"
   ]
  },
  {
   "cell_type": "code",
   "execution_count": 57,
   "id": "de9aa4ce-4e07-4ea7-92bd-dd2adf7a9c65",
   "metadata": {},
   "outputs": [],
   "source": [
    "results = []\n",
    "\n",
    "max_depths = [10, 15, 20, 25]\n",
    "n_est = np.arange(10, 210, 10)\n",
    "\n",
    "for max_depth in max_depths:\n",
    "    for n_trees in n_est:\n",
    "        model = RandomForestRegressor(n_estimators=n_trees, max_depth=max_depth, random_state=1, n_jobs=-1)\n",
    "        model.fit(X_train, y_train)\n",
    "\n",
    "        preds_val = model.predict(X_val)\n",
    "        rmse = round(mean_squared_error(y_val, preds_val, squared=False), 4)\n",
    "\n",
    "        results.append({'max_depth': max_depth, 'n_estimators': n_trees, 'rmse': rmse})\n",
    "        \n",
    "results = pd.DataFrame.from_records(data=results)"
   ]
  },
  {
   "cell_type": "code",
   "execution_count": 58,
   "id": "eb7b3955-7607-4587-be62-fefbb719dd11",
   "metadata": {},
   "outputs": [
    {
     "data": {
      "text/html": [
       "<div>\n",
       "<style scoped>\n",
       "    .dataframe tbody tr th:only-of-type {\n",
       "        vertical-align: middle;\n",
       "    }\n",
       "\n",
       "    .dataframe tbody tr th {\n",
       "        vertical-align: top;\n",
       "    }\n",
       "\n",
       "    .dataframe thead th {\n",
       "        text-align: right;\n",
       "    }\n",
       "</style>\n",
       "<table border=\"1\" class=\"dataframe\">\n",
       "  <thead>\n",
       "    <tr style=\"text-align: right;\">\n",
       "      <th></th>\n",
       "      <th>max_depth</th>\n",
       "      <th>n_estimators</th>\n",
       "      <th>rmse</th>\n",
       "    </tr>\n",
       "  </thead>\n",
       "  <tbody>\n",
       "    <tr>\n",
       "      <th>70</th>\n",
       "      <td>25</td>\n",
       "      <td>110</td>\n",
       "      <td>0.2312</td>\n",
       "    </tr>\n",
       "    <tr>\n",
       "      <th>71</th>\n",
       "      <td>25</td>\n",
       "      <td>120</td>\n",
       "      <td>0.2312</td>\n",
       "    </tr>\n",
       "    <tr>\n",
       "      <th>73</th>\n",
       "      <td>25</td>\n",
       "      <td>140</td>\n",
       "      <td>0.2314</td>\n",
       "    </tr>\n",
       "    <tr>\n",
       "      <th>79</th>\n",
       "      <td>25</td>\n",
       "      <td>200</td>\n",
       "      <td>0.2314</td>\n",
       "    </tr>\n",
       "    <tr>\n",
       "      <th>76</th>\n",
       "      <td>25</td>\n",
       "      <td>170</td>\n",
       "      <td>0.2314</td>\n",
       "    </tr>\n",
       "    <tr>\n",
       "      <th>...</th>\n",
       "      <td>...</td>\n",
       "      <td>...</td>\n",
       "      <td>...</td>\n",
       "    </tr>\n",
       "    <tr>\n",
       "      <th>4</th>\n",
       "      <td>10</td>\n",
       "      <td>50</td>\n",
       "      <td>0.2501</td>\n",
       "    </tr>\n",
       "    <tr>\n",
       "      <th>3</th>\n",
       "      <td>10</td>\n",
       "      <td>40</td>\n",
       "      <td>0.2510</td>\n",
       "    </tr>\n",
       "    <tr>\n",
       "      <th>2</th>\n",
       "      <td>10</td>\n",
       "      <td>30</td>\n",
       "      <td>0.2515</td>\n",
       "    </tr>\n",
       "    <tr>\n",
       "      <th>1</th>\n",
       "      <td>10</td>\n",
       "      <td>20</td>\n",
       "      <td>0.2526</td>\n",
       "    </tr>\n",
       "    <tr>\n",
       "      <th>0</th>\n",
       "      <td>10</td>\n",
       "      <td>10</td>\n",
       "      <td>0.2546</td>\n",
       "    </tr>\n",
       "  </tbody>\n",
       "</table>\n",
       "<p>80 rows × 3 columns</p>\n",
       "</div>"
      ],
      "text/plain": [
       "    max_depth  n_estimators    rmse\n",
       "70         25           110  0.2312\n",
       "71         25           120  0.2312\n",
       "73         25           140  0.2314\n",
       "79         25           200  0.2314\n",
       "76         25           170  0.2314\n",
       "..        ...           ...     ...\n",
       "4          10            50  0.2501\n",
       "3          10            40  0.2510\n",
       "2          10            30  0.2515\n",
       "1          10            20  0.2526\n",
       "0          10            10  0.2546\n",
       "\n",
       "[80 rows x 3 columns]"
      ]
     },
     "execution_count": 58,
     "metadata": {},
     "output_type": "execute_result"
    }
   ],
   "source": [
    "results.sort_values(by='rmse')"
   ]
  },
  {
   "cell_type": "markdown",
   "id": "a62009a3-14c4-4bcc-a7ff-e4ad560749d6",
   "metadata": {},
   "source": [
    "## Question 5"
   ]
  },
  {
   "cell_type": "code",
   "execution_count": 73,
   "id": "5c9d1578-6bfa-4943-80e2-9dd889c8ed11",
   "metadata": {},
   "outputs": [],
   "source": [
    "model = RandomForestRegressor(n_estimators=10, max_depth=20, random_state=1, n_jobs=-1) \n",
    "model.fit(X_train, y_train)\n",
    "\n",
    "importances = pd.DataFrame({'importances': model.feature_importances_, 'features': dv.get_feature_names_out()})\n",
    "        "
   ]
  },
  {
   "cell_type": "code",
   "execution_count": 75,
   "id": "105b630a-55bb-46a5-9e9e-430420f6a6b7",
   "metadata": {},
   "outputs": [
    {
     "data": {
      "text/plain": [
       "<AxesSubplot:xlabel='features'>"
      ]
     },
     "execution_count": 75,
     "metadata": {},
     "output_type": "execute_result"
    },
    {
     "data": {
      "image/png": "[encoded data removed]",
      "text/plain": [
       "<Figure size 432x288 with 1 Axes>"
      ]
     },
     "metadata": {
      "needs_background": "light"
     },
     "output_type": "display_data"
    }
   ],
   "source": [
    "importances.sort_values(by='importances', ascending=False).plot.bar(x='features', y='importances')"
   ]
  },
  {
   "cell_type": "markdown",
   "id": "43ad7617-47fd-4b11-a2ea-9341ee5f034b",
   "metadata": {},
   "source": [
    "## Question 6"
   ]
  },
  {
   "cell_type": "code",
   "execution_count": 120,
   "id": "4ac621fb-a07f-4ef5-8955-7ff8b18643db",
   "metadata": {},
   "outputs": [],
   "source": [
    "# https://github.com/alexeygrigorev/mlbookcamp-code/blob/master/course-zoomcamp/06-trees/notebook.ipynb\n",
    "\n",
    "def parse_xgb_output(output):\n",
    "    results = []\n",
    "\n",
    "    for line in output.stdout.strip().split('\\n'):\n",
    "        it_line, train_line, val_line = line.split('\\t')\n",
    "\n",
    "        it = int(it_line.strip('[]'))\n",
    "        train = float(train_line.split(':')[1])\n",
    "        val = float(val_line.split(':')[1])\n",
    "\n",
    "        results.append((it, train, val))\n",
    "    \n",
    "    columns = ['num_iter', 'train_rmse', 'val_rmse']\n",
    "    df_results = pd.DataFrame(results, columns=columns)\n",
    "    return df_results"
   ]
  },
  {
   "cell_type": "code",
   "execution_count": 121,
   "id": "6ed2d9ea-862f-4d46-bd0f-b63f251bebc8",
   "metadata": {},
   "outputs": [
    {
     "name": "stderr",
     "output_type": "stream",
     "text": [
      "/opt/miniconda3/envs/ml-zoomcamp/lib/python3.9/site-packages/sklearn/utils/deprecation.py:87: FutureWarning: Function get_feature_names is deprecated; get_feature_names is deprecated in 1.0 and will be removed in 1.2. Please use get_feature_names_out instead.\n",
      "  warnings.warn(msg, category=FutureWarning)\n"
     ]
    }
   ],
   "source": [
    "features = [feature.replace('<', 'smaller_then')for feature in dv.get_feature_names()]\n",
    "dtrain = xgboost.DMatrix(X_train, label=y_train, feature_names=features)\n",
    "dval = xgboost.DMatrix(X_val, label=y_val, feature_names=features)\n",
    "\n",
    "watchlist = [(dtrain, 'train'), (dval, 'val')]"
   ]
  },
  {
   "cell_type": "markdown",
   "id": "36c6765c-af41-4db4-9de5-7e5b52fa6188",
   "metadata": {},
   "source": [
    "### eta=0.3"
   ]
  },
  {
   "cell_type": "code",
   "execution_count": 122,
   "id": "97528a10-eb75-45aa-bc6a-622a41a0cbf0",
   "metadata": {},
   "outputs": [],
   "source": [
    "%%capture output\n",
    "\n",
    "xgb_params = {\n",
    "    'eta': 0.3, \n",
    "    'max_depth': 6,\n",
    "    'min_child_weight': 1,\n",
    "    \n",
    "    'objective': 'reg:squarederror',\n",
    "    'nthread': 8,\n",
    "    \n",
    "    'seed': 1,\n",
    "    'verbosity': 1,\n",
    "}\n",
    "\n",
    "model = xgboost.train(xgb_params, dtrain, num_boost_round=100,\n",
    "                  verbose_eval=5,\n",
    "                  evals=watchlist)\n",
    "\n",
    "s = output.stdout"
   ]
  },
  {
   "cell_type": "code",
   "execution_count": 123,
   "id": "6103618a-916a-4b17-8267-bea2c64b0554",
   "metadata": {},
   "outputs": [
    {
     "name": "stdout",
     "output_type": "stream",
     "text": [
      "rmse: 8.13\n"
     ]
    }
   ],
   "source": [
    "df_score = parse_xgb_output(output)\n",
    "print(f'rmse: {round(df_score.val_rmse.max(), 2)}')"
   ]
  },
  {
   "cell_type": "markdown",
   "id": "b6aee2a2-3f67-49e1-a5c0-346a2dd3c9e3",
   "metadata": {},
   "source": [
    "### eta=0.1"
   ]
  },
  {
   "cell_type": "code",
   "execution_count": 124,
   "id": "50c2b83b-ad34-455e-ad62-347bb89ba0ce",
   "metadata": {},
   "outputs": [],
   "source": [
    "%%capture output\n",
    "\n",
    "xgb_params = {\n",
    "    'eta': 0.1, \n",
    "    'max_depth': 6,\n",
    "    'min_child_weight': 1,\n",
    "    \n",
    "    'objective': 'reg:squarederror',\n",
    "    'nthread': 8,\n",
    "    \n",
    "    'seed': 1,\n",
    "    'verbosity': 1,\n",
    "}\n",
    "\n",
    "model = xgboost.train(xgb_params, dtrain, num_boost_round=100,\n",
    "                  verbose_eval=5,\n",
    "                  evals=watchlist)\n",
    "\n",
    "s = output.stdout"
   ]
  },
  {
   "cell_type": "code",
   "execution_count": 125,
   "id": "526633bd-f021-43de-b274-b7352d20227f",
   "metadata": {},
   "outputs": [
    {
     "name": "stdout",
     "output_type": "stream",
     "text": [
      "rmse: 10.45\n"
     ]
    }
   ],
   "source": [
    "df_score = parse_xgb_output(output)\n",
    "print(f'rmse: {round(df_score.val_rmse.max(), 2)}')"
   ]
  },
  {
   "cell_type": "code",
   "execution_count": null,
   "id": "8c9556d8-dfc1-42d2-8ac0-5fc8d7e8cc13",
   "metadata": {},
   "outputs": [],
   "source": []
  }
 ],
 "metadata": {
  "kernelspec": {
   "display_name": "Python 3",
   "language": "python",
   "name": "python3"
  },
  "language_info": {
   "codemirror_mode": {
    "name": "ipython",
    "version": 3
   },
   "file_extension": ".py",
   "mimetype": "text/x-python",
   "name": "python",
   "nbconvert_exporter": "python",
   "pygments_lexer": "ipython3",
   "version": "3.9.13"
  }
 },
 "nbformat": 4,
 "nbformat_minor": 5
}
