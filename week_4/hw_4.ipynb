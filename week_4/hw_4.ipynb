{
 "cells": [
  {
   "cell_type": "markdown",
   "id": "24dd8d2d-d7ba-4df1-a82c-0ac0cc007685",
   "metadata": {},
   "source": [
    "# Homework 4"
   ]
  },
  {
   "cell_type": "code",
   "execution_count": 73,
   "id": "5b5acf60-2df7-46a9-9ae3-40256ee0dfab",
   "metadata": {},
   "outputs": [],
   "source": [
    "from typing import Tuple\n",
    "\n",
    "import pandas as pd\n",
    "from sklearn.model_selection import train_test_split, KFold\n",
    "from sklearn.metrics import roc_auc_score, precision_recall_curve\n",
    "from sklearn.feature_extraction import DictVectorizer\n",
    "from sklearn.linear_model import LogisticRegression\n",
    "\n",
    "import matplotlib.pyplot as plt\n",
    "import numpy as np\n"
   ]
  },
  {
   "cell_type": "code",
   "execution_count": 74,
   "id": "5b972605-50d8-464d-9237-eeafdde3c526",
   "metadata": {},
   "outputs": [],
   "source": [
    "df = pd.read_csv('./data/data.csv')"
   ]
  },
  {
   "cell_type": "code",
   "execution_count": 75,
   "id": "f9686719-5ef0-4136-9d83-74f865adde18",
   "metadata": {},
   "outputs": [
    {
     "data": {
      "text/plain": [
       "yes    1023\n",
       "no      296\n",
       "Name: card, dtype: int64"
      ]
     },
     "execution_count": 75,
     "metadata": {},
     "output_type": "execute_result"
    }
   ],
   "source": [
    "df.card.value_counts()"
   ]
  },
  {
   "cell_type": "code",
   "execution_count": 76,
   "id": "9c587ea8-80a0-4bbf-863a-5c189f5da8b6",
   "metadata": {},
   "outputs": [
    {
     "data": {
      "text/html": [
       "<div>\n",
       "<style scoped>\n",
       "    .dataframe tbody tr th:only-of-type {\n",
       "        vertical-align: middle;\n",
       "    }\n",
       "\n",
       "    .dataframe tbody tr th {\n",
       "        vertical-align: top;\n",
       "    }\n",
       "\n",
       "    .dataframe thead th {\n",
       "        text-align: right;\n",
       "    }\n",
       "</style>\n",
       "<table border=\"1\" class=\"dataframe\">\n",
       "  <thead>\n",
       "    <tr style=\"text-align: right;\">\n",
       "      <th></th>\n",
       "      <th>card</th>\n",
       "      <th>reports</th>\n",
       "      <th>age</th>\n",
       "      <th>income</th>\n",
       "      <th>share</th>\n",
       "      <th>expenditure</th>\n",
       "      <th>owner</th>\n",
       "      <th>selfemp</th>\n",
       "      <th>dependents</th>\n",
       "      <th>months</th>\n",
       "      <th>majorcards</th>\n",
       "      <th>active</th>\n",
       "    </tr>\n",
       "  </thead>\n",
       "  <tbody>\n",
       "    <tr>\n",
       "      <th>0</th>\n",
       "      <td>yes</td>\n",
       "      <td>0</td>\n",
       "      <td>37.66667</td>\n",
       "      <td>4.5200</td>\n",
       "      <td>0.033270</td>\n",
       "      <td>124.983300</td>\n",
       "      <td>yes</td>\n",
       "      <td>no</td>\n",
       "      <td>3</td>\n",
       "      <td>54</td>\n",
       "      <td>1</td>\n",
       "      <td>12</td>\n",
       "    </tr>\n",
       "    <tr>\n",
       "      <th>1</th>\n",
       "      <td>yes</td>\n",
       "      <td>0</td>\n",
       "      <td>33.25000</td>\n",
       "      <td>2.4200</td>\n",
       "      <td>0.005217</td>\n",
       "      <td>9.854167</td>\n",
       "      <td>no</td>\n",
       "      <td>no</td>\n",
       "      <td>3</td>\n",
       "      <td>34</td>\n",
       "      <td>1</td>\n",
       "      <td>13</td>\n",
       "    </tr>\n",
       "    <tr>\n",
       "      <th>2</th>\n",
       "      <td>yes</td>\n",
       "      <td>0</td>\n",
       "      <td>33.66667</td>\n",
       "      <td>4.5000</td>\n",
       "      <td>0.004156</td>\n",
       "      <td>15.000000</td>\n",
       "      <td>yes</td>\n",
       "      <td>no</td>\n",
       "      <td>4</td>\n",
       "      <td>58</td>\n",
       "      <td>1</td>\n",
       "      <td>5</td>\n",
       "    </tr>\n",
       "    <tr>\n",
       "      <th>3</th>\n",
       "      <td>yes</td>\n",
       "      <td>0</td>\n",
       "      <td>30.50000</td>\n",
       "      <td>2.5400</td>\n",
       "      <td>0.065214</td>\n",
       "      <td>137.869200</td>\n",
       "      <td>no</td>\n",
       "      <td>no</td>\n",
       "      <td>0</td>\n",
       "      <td>25</td>\n",
       "      <td>1</td>\n",
       "      <td>7</td>\n",
       "    </tr>\n",
       "    <tr>\n",
       "      <th>4</th>\n",
       "      <td>yes</td>\n",
       "      <td>0</td>\n",
       "      <td>32.16667</td>\n",
       "      <td>9.7867</td>\n",
       "      <td>0.067051</td>\n",
       "      <td>546.503300</td>\n",
       "      <td>yes</td>\n",
       "      <td>no</td>\n",
       "      <td>2</td>\n",
       "      <td>64</td>\n",
       "      <td>1</td>\n",
       "      <td>5</td>\n",
       "    </tr>\n",
       "  </tbody>\n",
       "</table>\n",
       "</div>"
      ],
      "text/plain": [
       "  card  reports       age  income     share  expenditure owner selfemp  \\\n",
       "0  yes        0  37.66667  4.5200  0.033270   124.983300   yes      no   \n",
       "1  yes        0  33.25000  2.4200  0.005217     9.854167    no      no   \n",
       "2  yes        0  33.66667  4.5000  0.004156    15.000000   yes      no   \n",
       "3  yes        0  30.50000  2.5400  0.065214   137.869200    no      no   \n",
       "4  yes        0  32.16667  9.7867  0.067051   546.503300   yes      no   \n",
       "\n",
       "   dependents  months  majorcards  active  \n",
       "0           3      54           1      12  \n",
       "1           3      34           1      13  \n",
       "2           4      58           1       5  \n",
       "3           0      25           1       7  \n",
       "4           2      64           1       5  "
      ]
     },
     "execution_count": 76,
     "metadata": {},
     "output_type": "execute_result"
    }
   ],
   "source": [
    "df.head()"
   ]
  },
  {
   "cell_type": "code",
   "execution_count": 77,
   "id": "ad546f39-792c-4e69-b08c-01f4b824421f",
   "metadata": {},
   "outputs": [],
   "source": [
    "def str_to_int(value: str) -> int:\n",
    "    return 1 if value == \"yes\" else 0\n",
    "\n",
    "df.card = df.card.map(str_to_int)"
   ]
  },
  {
   "cell_type": "code",
   "execution_count": 78,
   "id": "ef73f54a-a07b-4b3b-92a5-e0d1037254b9",
   "metadata": {},
   "outputs": [
    {
     "data": {
      "text/plain": [
       "(791, 264, 264)"
      ]
     },
     "execution_count": 78,
     "metadata": {},
     "output_type": "execute_result"
    }
   ],
   "source": [
    "full_train, test = train_test_split(df, train_size=0.8, random_state=1)\n",
    "train, val = train_test_split(full_train, train_size=0.75, random_state=1)\n",
    "\n",
    "full_train = full_train.reset_index(drop=True)\n",
    "train = train.reset_index(drop=True)\n",
    "val = val.reset_index(drop=True)\n",
    "test = test.reset_index(drop=True)\n",
    "\n",
    "len(train.index), len(val.index), len(test.index)"
   ]
  },
  {
   "cell_type": "markdown",
   "id": "29925057-19d9-45de-951e-1ce4fb4ddebb",
   "metadata": {},
   "source": [
    "## Question 1"
   ]
  },
  {
   "cell_type": "code",
   "execution_count": 79,
   "id": "824bc620-3929-4ed3-9657-6761741da1c1",
   "metadata": {},
   "outputs": [
    {
     "name": "stdout",
     "output_type": "stream",
     "text": [
      "feature:              auc:\n",
      "reports             0.7167\n",
      "age                  0.524\n",
      "income              0.5908\n",
      "share               0.9892\n",
      "expenditure          0.991\n",
      "dependents          0.5328\n",
      "months              0.5294\n",
      "majorcards          0.5344\n",
      "active              0.6043\n"
     ]
    }
   ],
   "source": [
    "print(f\"{'feature:' : <15} {'auc:': >10}\")\n",
    "for feature in train.columns[1:]:\n",
    "    if train.dtypes[feature] != 'object':\n",
    "        if roc_auc_score(train.card, train[feature]) > 0.5:\n",
    "            print(f'{feature: <15} {round(roc_auc_score(train.card, train[feature]), 4) : >10}')\n",
    "        else: \n",
    "            print(f'{feature: <15} {round(roc_auc_score(train.card, -train[feature]), 4) : >10}')"
   ]
  },
  {
   "cell_type": "markdown",
   "id": "76ec3880-be3d-4016-b869-acd7d4bfaee0",
   "metadata": {},
   "source": [
    "Share has the highest AUC score."
   ]
  },
  {
   "cell_type": "markdown",
   "id": "ab5a9a6b-0684-4ae5-ad63-ddc0049f9725",
   "metadata": {},
   "source": [
    "## Question 2"
   ]
  },
  {
   "cell_type": "code",
   "execution_count": 80,
   "id": "6870c3f8-0e79-4ff7-8db1-63a37a6422f9",
   "metadata": {},
   "outputs": [],
   "source": [
    "features = [\"reports\", \"age\", \"income\", \"share\", \"expenditure\", \"dependents\", \"months\", \"majorcards\", \"active\", \"owner\", \"selfemp\"]"
   ]
  },
  {
   "cell_type": "code",
   "execution_count": 81,
   "id": "0f536397-bfd2-414d-8945-def0ba42699a",
   "metadata": {},
   "outputs": [],
   "source": [
    "train_y = train.card\n",
    "train = train[features]\n",
    "\n",
    "val_y = val.card\n",
    "val = val[features]\n",
    "\n",
    "test_y = test.card\n",
    "test = test[features]"
   ]
  },
  {
   "cell_type": "code",
   "execution_count": 82,
   "id": "ab55e29f-6bc2-4837-b38d-00034c9e0fdf",
   "metadata": {},
   "outputs": [],
   "source": [
    "dv = DictVectorizer(sparse=False)\n",
    "train_X = dv.fit_transform(train.to_dict(orient='records'))\n",
    "val_X = dv.transform(val.to_dict(orient='records'))\n",
    "test_X = dv.transform(test.to_dict(orient='records'))"
   ]
  },
  {
   "cell_type": "code",
   "execution_count": 83,
   "id": "c3334cf8-1d0a-4fd8-b1a1-cc20573ea57b",
   "metadata": {},
   "outputs": [
    {
     "data": {
      "text/plain": [
       "0.995"
      ]
     },
     "execution_count": 83,
     "metadata": {},
     "output_type": "execute_result"
    }
   ],
   "source": [
    "lr = LogisticRegression(solver='liblinear', C=1.0, max_iter=1000)\n",
    "lr.fit(train_X, train_y)\n",
    "\n",
    "val_pred = lr.predict_proba(val_X)\n",
    "\n",
    "round(roc_auc_score(val_y, val_pred[:,1]),3)"
   ]
  },
  {
   "cell_type": "markdown",
   "id": "a6a9e0fb-474e-4eb5-b69a-c4fee40bc7cc",
   "metadata": {},
   "source": [
    "## Question 3, 4"
   ]
  },
  {
   "cell_type": "code",
   "execution_count": 84,
   "id": "541c2332-a091-4060-88ca-0c815d490555",
   "metadata": {},
   "outputs": [
    {
     "data": {
      "image/png": "[encoded data removed]",
      "text/plain": [
       "<Figure size 432x288 with 1 Axes>"
      ]
     },
     "metadata": {
      "needs_background": "light"
     },
     "output_type": "display_data"
    }
   ],
   "source": [
    "precision, recall, threshold = precision_recall_curve(val_y, val_pred[:,1])\n",
    "\n",
    "plt.plot(threshold, precision[:-1])\n",
    "plt.plot(threshold, recall[:-1])\n",
    "plt.show()"
   ]
  },
  {
   "cell_type": "code",
   "execution_count": 85,
   "id": "12dab89a-e4a9-49f3-a77a-ff49e09286ec",
   "metadata": {},
   "outputs": [
    {
     "name": "stdout",
     "output_type": "stream",
     "text": [
      "0.9832134292565947\n",
      "0.415690744186498\n"
     ]
    },
    {
     "data": {
      "text/plain": [
       "[<matplotlib.lines.Line2D at 0x1693f0640>]"
      ]
     },
     "execution_count": 85,
     "metadata": {},
     "output_type": "execute_result"
    },
    {
     "data": {
      "image/png": "[encoded data removed]",
      "text/plain": [
       "<Figure size 432x288 with 1 Axes>"
      ]
     },
     "metadata": {
      "needs_background": "light"
     },
     "output_type": "display_data"
    }
   ],
   "source": [
    "F_1 = []\n",
    "\n",
    "for p, r in zip(precision, recall):\n",
    "    F_1.append(2*p*r/(p+r))\n",
    "    \n",
    "idx = np.argmax(F_1)\n",
    "print(F_1[idx])\n",
    "print(threshold[idx])\n",
    "    \n",
    "plt.plot(threshold, F_1[:-1])"
   ]
  },
  {
   "cell_type": "markdown",
   "id": "7074edd4-130d-4d9a-9a28-aae700f930ff",
   "metadata": {},
   "source": [
    "Precision and recall intersect at 0.3.\n",
    "F_1 is max at 0.4."
   ]
  },
  {
   "cell_type": "markdown",
   "id": "f3ea8c68-598c-4b7a-8425-fa4ad2ba5472",
   "metadata": {},
   "source": [
    "## Question 5"
   ]
  },
  {
   "cell_type": "code",
   "execution_count": 87,
   "id": "710d17e6-7a0b-4f29-904f-98f4faa17e43",
   "metadata": {
    "tags": []
   },
   "outputs": [],
   "source": [
    "\n",
    "def vectorize(train_X: pd.DataFrame, val_X: pd.DataFrame) -> tuple[np.array]:\n",
    "    dv = DictVectorizer(sparse=False)\n",
    "    train_X = dv.fit_transform(train_X.to_dict(orient='records'))\n",
    "    val_X = dv.transform(val_X.to_dict(orient='records'))\n",
    "    \n",
    "    return train_X, val_X\n",
    "    \n",
    "    \n",
    "def split_X_y(dataset: pd.DataFrame, features: list[str]) -> tuple[pd.DataFrame, np.array]:\n",
    "    dataset_y = dataset.card.values\n",
    "    del dataset['card']\n",
    "    dataset_X = dataset[features]\n",
    "    \n",
    "    return dataset_X, dataset_y\n",
    "\n",
    "\n",
    "def train(train_X: np.array, train_y: np.array, C:float =1.0) -> LogisticRegression:\n",
    "    lr = LogisticRegression(solver='liblinear', C=C, max_iter=1000)\n",
    "    lr.fit(train_X, train_y)\n",
    "    \n",
    "    return lr\n",
    "    \n",
    "\n",
    "def predict(val_X: np.array, lr: LogisticRegression) -> np.array:\n",
    "    \n",
    "    return lr.predict_proba(val_X)[:,1]\n",
    "\n",
    "\n",
    "def cross_validate(full_train: pd.DataFrame, C_values: list[int]=[1.0]):\n",
    "    \n",
    "    auc_scores = []\n",
    "    kf = KFold(n_splits=5, shuffle=True, random_state=1)\n",
    "\n",
    "    for C in C_values:\n",
    "        \n",
    "        auc = []\n",
    "        for train_idx, val_idx in kf.split(full_train):\n",
    "            train_df = full_train.iloc[train_idx]\n",
    "            val_df = full_train.iloc[val_idx]\n",
    "\n",
    "            train_X, train_y = split_X_y(train_df, features)\n",
    "            val_X, val_y = split_X_y(val_df, features)\n",
    "\n",
    "            train_X, val_X = vectorize(train_X, val_X)\n",
    "\n",
    "\n",
    "            model = train(train_X, train_y, C)\n",
    "            probs = predict(val_X, model)\n",
    "\n",
    "            auc.append(roc_auc_score(val_y, probs))\n",
    "            \n",
    "        auc_scores.append({'C': C, 'mean': np.mean(auc), 'std': np.std(auc)})\n",
    "        \n",
    "    return auc_scores\n",
    "    \n",
    "    "
   ]
  },
  {
   "cell_type": "code",
   "execution_count": 88,
   "id": "4105a812-6e75-43df-af97-5bf815085edb",
   "metadata": {},
   "outputs": [
    {
     "name": "stdout",
     "output_type": "stream",
     "text": [
      "standard deviation on auc: 0.003\n"
     ]
    }
   ],
   "source": [
    "score = cross_validate(full_train)[0]\n",
    "print(f\"standard deviation on auc: {round(score['std'], 3)}\")"
   ]
  },
  {
   "cell_type": "markdown",
   "id": "7a1c5df2-f8a5-49b1-b36d-231668a2fe54",
   "metadata": {},
   "source": [
    "## Question 6"
   ]
  },
  {
   "cell_type": "code",
   "execution_count": 92,
   "id": "cc807ca7-b32f-4f6e-9944-e67531fd0349",
   "metadata": {},
   "outputs": [
    {
     "data": {
      "text/html": [
       "<div>\n",
       "<style scoped>\n",
       "    .dataframe tbody tr th:only-of-type {\n",
       "        vertical-align: middle;\n",
       "    }\n",
       "\n",
       "    .dataframe tbody tr th {\n",
       "        vertical-align: top;\n",
       "    }\n",
       "\n",
       "    .dataframe thead th {\n",
       "        text-align: right;\n",
       "    }\n",
       "</style>\n",
       "<table border=\"1\" class=\"dataframe\">\n",
       "  <thead>\n",
       "    <tr style=\"text-align: right;\">\n",
       "      <th></th>\n",
       "      <th>C</th>\n",
       "      <th>mean</th>\n",
       "      <th>std</th>\n",
       "    </tr>\n",
       "  </thead>\n",
       "  <tbody>\n",
       "    <tr>\n",
       "      <th>0</th>\n",
       "      <td>0.01</td>\n",
       "      <td>0.992</td>\n",
       "      <td>0.006</td>\n",
       "    </tr>\n",
       "    <tr>\n",
       "      <th>1</th>\n",
       "      <td>0.10</td>\n",
       "      <td>0.995</td>\n",
       "      <td>0.004</td>\n",
       "    </tr>\n",
       "    <tr>\n",
       "      <th>2</th>\n",
       "      <td>1.00</td>\n",
       "      <td>0.996</td>\n",
       "      <td>0.003</td>\n",
       "    </tr>\n",
       "    <tr>\n",
       "      <th>3</th>\n",
       "      <td>10.00</td>\n",
       "      <td>0.996</td>\n",
       "      <td>0.003</td>\n",
       "    </tr>\n",
       "  </tbody>\n",
       "</table>\n",
       "</div>"
      ],
      "text/plain": [
       "       C   mean    std\n",
       "0   0.01  0.992  0.006\n",
       "1   0.10  0.995  0.004\n",
       "2   1.00  0.996  0.003\n",
       "3  10.00  0.996  0.003"
      ]
     },
     "execution_count": 92,
     "metadata": {},
     "output_type": "execute_result"
    }
   ],
   "source": [
    "scores = cross_validate(full_train, C_values=[0.01, 0.1, 1, 10])\n",
    "\n",
    "pd.DataFrame(scores).round(3)"
   ]
  },
  {
   "cell_type": "markdown",
   "id": "48c0d213-13aa-4d21-bac5-adca20e0b8ae",
   "metadata": {},
   "source": [
    "C=1.00"
   ]
  },
  {
   "cell_type": "code",
   "execution_count": null,
   "id": "3079471c-f691-4486-9af6-b0cf557a2a11",
   "metadata": {},
   "outputs": [],
   "source": []
  }
 ],
 "metadata": {
  "kernelspec": {
   "display_name": "Python 3",
   "language": "python",
   "name": "python3"
  },
  "language_info": {
   "codemirror_mode": {
    "name": "ipython",
    "version": 3
   },
   "file_extension": ".py",
   "mimetype": "text/x-python",
   "name": "python",
   "nbconvert_exporter": "python",
   "pygments_lexer": "ipython3",
   "version": "3.9.13"
  }
 },
 "nbformat": 4,
 "nbformat_minor": 5
}
