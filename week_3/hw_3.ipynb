{
 "cells": [
  {
   "cell_type": "markdown",
   "id": "478b5b4c-4a45-47c0-a14e-5580d18f192a",
   "metadata": {},
   "source": [
    "# Homework 3"
   ]
  },
  {
   "cell_type": "code",
   "execution_count": 208,
   "id": "b42e6298-a172-4e70-894b-72625e78eb16",
   "metadata": {},
   "outputs": [],
   "source": [
    "import pandas as pd\n",
    "import numpy as np\n",
    "\n",
    "from sklearn.model_selection import train_test_split\n",
    "from sklearn.metrics import mutual_info_score, mean_squared_error\n",
    "from sklearn.feature_extraction import DictVectorizer\n",
    "from sklearn.linear_model import LogisticRegression, Ridge\n",
    "\n",
    "import matplotlib.pyplot as plt\n",
    "import seaborn as sn"
   ]
  },
  {
   "cell_type": "markdown",
   "id": "f10b861f-f4b4-4fbf-b5ea-513f5b471df5",
   "metadata": {},
   "source": [
    "### Data preparation\n",
    "\n",
    "* Select only the features from above and fill in the missing values with 0.\n",
    "* Create a new column `rooms_per_household` by dividing the column `total_rooms` by the column `households` from dataframe. \n",
    "* Create a new column `bedrooms_per_room` by dividing the column `total_bedrooms` by the column `total_rooms` from dataframe. \n",
    "* Create a new column `population_per_household` by dividing the column `population` by the column `households` from dataframe."
   ]
  },
  {
   "cell_type": "code",
   "execution_count": 2,
   "id": "1cfb2253-a8a5-4072-85a0-0c57501cb526",
   "metadata": {},
   "outputs": [],
   "source": [
    "def load_data(path='data/housing.csv'):\n",
    "    \n",
    "    df = pd.read_csv('data/housing.csv')\n",
    "\n",
    "    columns = ['latitude',\n",
    "                'longitude',\n",
    "                'housing_median_age',\n",
    "                'total_rooms',\n",
    "                'total_bedrooms',\n",
    "                'population',\n",
    "                'households',\n",
    "                'median_income',\n",
    "                'median_house_value',\n",
    "                'ocean_proximity']\n",
    "    \n",
    "    df = df[columns].fillna(0)\n",
    "    \n",
    "    df['rooms_per_household'] = df['total_rooms'] / df['households']\n",
    "    df['bedrooms_per_room'] = df['total_bedrooms'] / df['total_rooms']\n",
    "    df['population_per_household'] = df['population'] / df['households']\n",
    "    \n",
    "    return df\n",
    "    "
   ]
  },
  {
   "cell_type": "code",
   "execution_count": 3,
   "id": "b361d9f1-d348-4c35-9f2b-6024932d3d5c",
   "metadata": {},
   "outputs": [],
   "source": [
    "df = load_data()"
   ]
  },
  {
   "cell_type": "markdown",
   "id": "c2505afc-35a7-44cb-812b-da3fb6015527",
   "metadata": {},
   "source": [
    "## Question 1\n"
   ]
  },
  {
   "cell_type": "code",
   "execution_count": 4,
   "id": "85b3f181-0d18-43e3-87ec-836a32d32857",
   "metadata": {},
   "outputs": [
    {
     "data": {
      "text/plain": [
       "<1H OCEAN     9136\n",
       "INLAND        6551\n",
       "NEAR OCEAN    2658\n",
       "NEAR BAY      2290\n",
       "ISLAND           5\n",
       "Name: ocean_proximity, dtype: int64"
      ]
     },
     "execution_count": 4,
     "metadata": {},
     "output_type": "execute_result"
    }
   ],
   "source": [
    "df.ocean_proximity.value_counts()"
   ]
  },
  {
   "cell_type": "markdown",
   "id": "ea4f6785-4224-4a7e-8d79-a79811908625",
   "metadata": {},
   "source": [
    "Most common value: <1H OCEAN     9136"
   ]
  },
  {
   "cell_type": "markdown",
   "id": "a9859439-a076-488d-8b4b-c4251f84794e",
   "metadata": {},
   "source": [
    "## Question 2"
   ]
  },
  {
   "cell_type": "code",
   "execution_count": 16,
   "id": "0d64bbf5-7dc7-415b-a9f2-a41c0fc79ede",
   "metadata": {},
   "outputs": [],
   "source": [
    "def split(df):\n",
    "    df_full_train, df_test = train_test_split(df, train_size=0.8, random_state=42)\n",
    "    df_train, df_val = train_test_split(df_full_train, train_size=0.75, random_state=42)\n",
    "\n",
    "    y_train = df_train.median_house_value.to_list()\n",
    "    y_val = df_val.median_house_value.to_list()\n",
    "    y_test = df_test.median_house_value.to_list()\n",
    "\n",
    "    del df_train['median_house_value']\n",
    "    del df_val['median_house_value']\n",
    "    del df_test['median_house_value']\n",
    "    \n",
    "    return df_train, y_train, df_val, y_val, df_test, y_test\n",
    "\n"
   ]
  },
  {
   "cell_type": "code",
   "execution_count": 17,
   "id": "4889bae2-43fd-45d5-b1a3-83bd4a452e08",
   "metadata": {},
   "outputs": [],
   "source": [
    "df_train, y_train, df_val, y_val, df_test, y_test = split(df)"
   ]
  },
  {
   "cell_type": "code",
   "execution_count": 20,
   "id": "d92cc318-2826-4fb7-a356-6b909e5a23fb",
   "metadata": {},
   "outputs": [
    {
     "data": {
      "text/html": [
       "<div>\n",
       "<style scoped>\n",
       "    .dataframe tbody tr th:only-of-type {\n",
       "        vertical-align: middle;\n",
       "    }\n",
       "\n",
       "    .dataframe tbody tr th {\n",
       "        vertical-align: top;\n",
       "    }\n",
       "\n",
       "    .dataframe thead th {\n",
       "        text-align: right;\n",
       "    }\n",
       "</style>\n",
       "<table border=\"1\" class=\"dataframe\">\n",
       "  <thead>\n",
       "    <tr style=\"text-align: right;\">\n",
       "      <th></th>\n",
       "      <th>latitude</th>\n",
       "      <th>longitude</th>\n",
       "      <th>housing_median_age</th>\n",
       "      <th>total_rooms</th>\n",
       "      <th>total_bedrooms</th>\n",
       "      <th>population</th>\n",
       "      <th>households</th>\n",
       "      <th>median_income</th>\n",
       "      <th>rooms_per_household</th>\n",
       "      <th>bedrooms_per_room</th>\n",
       "      <th>population_per_household</th>\n",
       "    </tr>\n",
       "  </thead>\n",
       "  <tbody>\n",
       "    <tr>\n",
       "      <th>latitude</th>\n",
       "      <td>1.000000</td>\n",
       "      <td>-0.925005</td>\n",
       "      <td>0.002477</td>\n",
       "      <td>-0.025914</td>\n",
       "      <td>-0.059730</td>\n",
       "      <td>-0.100272</td>\n",
       "      <td>-0.063529</td>\n",
       "      <td>-0.076805</td>\n",
       "      <td>0.119118</td>\n",
       "      <td>-0.124507</td>\n",
       "      <td>-0.002301</td>\n",
       "    </tr>\n",
       "    <tr>\n",
       "      <th>longitude</th>\n",
       "      <td>-0.925005</td>\n",
       "      <td>1.000000</td>\n",
       "      <td>-0.099812</td>\n",
       "      <td>0.036449</td>\n",
       "      <td>0.063840</td>\n",
       "      <td>0.091670</td>\n",
       "      <td>0.049762</td>\n",
       "      <td>-0.016426</td>\n",
       "      <td>-0.034814</td>\n",
       "      <td>0.102320</td>\n",
       "      <td>0.011022</td>\n",
       "    </tr>\n",
       "    <tr>\n",
       "      <th>housing_median_age</th>\n",
       "      <td>0.002477</td>\n",
       "      <td>-0.099812</td>\n",
       "      <td>1.000000</td>\n",
       "      <td>-0.363522</td>\n",
       "      <td>-0.324156</td>\n",
       "      <td>-0.292476</td>\n",
       "      <td>-0.306119</td>\n",
       "      <td>-0.119591</td>\n",
       "      <td>-0.181275</td>\n",
       "      <td>0.129456</td>\n",
       "      <td>0.012167</td>\n",
       "    </tr>\n",
       "    <tr>\n",
       "      <th>total_rooms</th>\n",
       "      <td>-0.025914</td>\n",
       "      <td>0.036449</td>\n",
       "      <td>-0.363522</td>\n",
       "      <td>1.000000</td>\n",
       "      <td>0.931546</td>\n",
       "      <td>0.853219</td>\n",
       "      <td>0.921441</td>\n",
       "      <td>0.198951</td>\n",
       "      <td>0.168926</td>\n",
       "      <td>-0.194185</td>\n",
       "      <td>-0.029452</td>\n",
       "    </tr>\n",
       "    <tr>\n",
       "      <th>total_bedrooms</th>\n",
       "      <td>-0.059730</td>\n",
       "      <td>0.063840</td>\n",
       "      <td>-0.324156</td>\n",
       "      <td>0.931546</td>\n",
       "      <td>1.000000</td>\n",
       "      <td>0.877340</td>\n",
       "      <td>0.979399</td>\n",
       "      <td>-0.009833</td>\n",
       "      <td>0.010381</td>\n",
       "      <td>0.078094</td>\n",
       "      <td>-0.034301</td>\n",
       "    </tr>\n",
       "    <tr>\n",
       "      <th>population</th>\n",
       "      <td>-0.100272</td>\n",
       "      <td>0.091670</td>\n",
       "      <td>-0.292476</td>\n",
       "      <td>0.853219</td>\n",
       "      <td>0.877340</td>\n",
       "      <td>1.000000</td>\n",
       "      <td>0.906841</td>\n",
       "      <td>-0.000849</td>\n",
       "      <td>-0.076210</td>\n",
       "      <td>0.031592</td>\n",
       "      <td>0.064998</td>\n",
       "    </tr>\n",
       "    <tr>\n",
       "      <th>households</th>\n",
       "      <td>-0.063529</td>\n",
       "      <td>0.049762</td>\n",
       "      <td>-0.306119</td>\n",
       "      <td>0.921441</td>\n",
       "      <td>0.979399</td>\n",
       "      <td>0.906841</td>\n",
       "      <td>1.000000</td>\n",
       "      <td>0.011925</td>\n",
       "      <td>-0.085832</td>\n",
       "      <td>0.058004</td>\n",
       "      <td>-0.032522</td>\n",
       "    </tr>\n",
       "    <tr>\n",
       "      <th>median_income</th>\n",
       "      <td>-0.076805</td>\n",
       "      <td>-0.016426</td>\n",
       "      <td>-0.119591</td>\n",
       "      <td>0.198951</td>\n",
       "      <td>-0.009833</td>\n",
       "      <td>-0.000849</td>\n",
       "      <td>0.011925</td>\n",
       "      <td>1.000000</td>\n",
       "      <td>0.394154</td>\n",
       "      <td>-0.616617</td>\n",
       "      <td>-0.000454</td>\n",
       "    </tr>\n",
       "    <tr>\n",
       "      <th>rooms_per_household</th>\n",
       "      <td>0.119118</td>\n",
       "      <td>-0.034814</td>\n",
       "      <td>-0.181275</td>\n",
       "      <td>0.168926</td>\n",
       "      <td>0.010381</td>\n",
       "      <td>-0.076210</td>\n",
       "      <td>-0.085832</td>\n",
       "      <td>0.394154</td>\n",
       "      <td>1.000000</td>\n",
       "      <td>-0.500589</td>\n",
       "      <td>0.001801</td>\n",
       "    </tr>\n",
       "    <tr>\n",
       "      <th>bedrooms_per_room</th>\n",
       "      <td>-0.124507</td>\n",
       "      <td>0.102320</td>\n",
       "      <td>0.129456</td>\n",
       "      <td>-0.194185</td>\n",
       "      <td>0.078094</td>\n",
       "      <td>0.031592</td>\n",
       "      <td>0.058004</td>\n",
       "      <td>-0.616617</td>\n",
       "      <td>-0.500589</td>\n",
       "      <td>1.000000</td>\n",
       "      <td>-0.002851</td>\n",
       "    </tr>\n",
       "    <tr>\n",
       "      <th>population_per_household</th>\n",
       "      <td>-0.002301</td>\n",
       "      <td>0.011022</td>\n",
       "      <td>0.012167</td>\n",
       "      <td>-0.029452</td>\n",
       "      <td>-0.034301</td>\n",
       "      <td>0.064998</td>\n",
       "      <td>-0.032522</td>\n",
       "      <td>-0.000454</td>\n",
       "      <td>0.001801</td>\n",
       "      <td>-0.002851</td>\n",
       "      <td>1.000000</td>\n",
       "    </tr>\n",
       "  </tbody>\n",
       "</table>\n",
       "</div>"
      ],
      "text/plain": [
       "                          latitude  longitude  housing_median_age  \\\n",
       "latitude                  1.000000  -0.925005            0.002477   \n",
       "longitude                -0.925005   1.000000           -0.099812   \n",
       "housing_median_age        0.002477  -0.099812            1.000000   \n",
       "total_rooms              -0.025914   0.036449           -0.363522   \n",
       "total_bedrooms           -0.059730   0.063840           -0.324156   \n",
       "population               -0.100272   0.091670           -0.292476   \n",
       "households               -0.063529   0.049762           -0.306119   \n",
       "median_income            -0.076805  -0.016426           -0.119591   \n",
       "rooms_per_household       0.119118  -0.034814           -0.181275   \n",
       "bedrooms_per_room        -0.124507   0.102320            0.129456   \n",
       "population_per_household -0.002301   0.011022            0.012167   \n",
       "\n",
       "                          total_rooms  total_bedrooms  population  households  \\\n",
       "latitude                    -0.025914       -0.059730   -0.100272   -0.063529   \n",
       "longitude                    0.036449        0.063840    0.091670    0.049762   \n",
       "housing_median_age          -0.363522       -0.324156   -0.292476   -0.306119   \n",
       "total_rooms                  1.000000        0.931546    0.853219    0.921441   \n",
       "total_bedrooms               0.931546        1.000000    0.877340    0.979399   \n",
       "population                   0.853219        0.877340    1.000000    0.906841   \n",
       "households                   0.921441        0.979399    0.906841    1.000000   \n",
       "median_income                0.198951       -0.009833   -0.000849    0.011925   \n",
       "rooms_per_household          0.168926        0.010381   -0.076210   -0.085832   \n",
       "bedrooms_per_room           -0.194185        0.078094    0.031592    0.058004   \n",
       "population_per_household    -0.029452       -0.034301    0.064998   -0.032522   \n",
       "\n",
       "                          median_income  rooms_per_household  \\\n",
       "latitude                      -0.076805             0.119118   \n",
       "longitude                     -0.016426            -0.034814   \n",
       "housing_median_age            -0.119591            -0.181275   \n",
       "total_rooms                    0.198951             0.168926   \n",
       "total_bedrooms                -0.009833             0.010381   \n",
       "population                    -0.000849            -0.076210   \n",
       "households                     0.011925            -0.085832   \n",
       "median_income                  1.000000             0.394154   \n",
       "rooms_per_household            0.394154             1.000000   \n",
       "bedrooms_per_room             -0.616617            -0.500589   \n",
       "population_per_household      -0.000454             0.001801   \n",
       "\n",
       "                          bedrooms_per_room  population_per_household  \n",
       "latitude                          -0.124507                 -0.002301  \n",
       "longitude                          0.102320                  0.011022  \n",
       "housing_median_age                 0.129456                  0.012167  \n",
       "total_rooms                       -0.194185                 -0.029452  \n",
       "total_bedrooms                     0.078094                 -0.034301  \n",
       "population                         0.031592                  0.064998  \n",
       "households                         0.058004                 -0.032522  \n",
       "median_income                     -0.616617                 -0.000454  \n",
       "rooms_per_household               -0.500589                  0.001801  \n",
       "bedrooms_per_room                  1.000000                 -0.002851  \n",
       "population_per_household          -0.002851                  1.000000  "
      ]
     },
     "execution_count": 20,
     "metadata": {},
     "output_type": "execute_result"
    }
   ],
   "source": [
    "df_train.corr()"
   ]
  },
  {
   "cell_type": "code",
   "execution_count": 27,
   "id": "f10256a3-369d-4c86-b922-e5bc6460601e",
   "metadata": {},
   "outputs": [
    {
     "data": {
      "image/png": "[encoded data removed]",
      "text/plain": [
       "<Figure size 432x288 with 2 Axes>"
      ]
     },
     "metadata": {
      "needs_background": "light"
     },
     "output_type": "display_data"
    }
   ],
   "source": [
    "sn.heatmap(df_train.corr(), annot=True)\n",
    "plt.show()"
   ]
  },
  {
   "cell_type": "code",
   "execution_count": 65,
   "id": "2f108031-8e2f-4d99-9272-becdb250506f",
   "metadata": {},
   "outputs": [],
   "source": [
    "def get_corr_list(df: pd.DataFrame, top: int = 5) -> pd.DataFrame:\n",
    "    \n",
    "    df_corr = df.corr().stack().reset_index()\n",
    "    df_corr.columns = ['feature_1', 'feature_2', 'coeff']\n",
    "    df_corr = df_corr[df_corr.feature_1 != df_corr.feature_2]\n",
    "    df_corr['features'] = df_corr.apply(lambda x: '-'.join(sorted([x.feature_1, x.feature_2])), axis=1)\n",
    "\n",
    "    df_corr = df_corr.drop_duplicates(subset='features')\n",
    "\n",
    "    \n",
    "    df_corr = df_corr.sort_values(by=['coeff'], ascending=(top<0)).head(abs(top))\n",
    "    \n",
    "    return df_corr[['features', 'coeff']]"
   ]
  },
  {
   "cell_type": "code",
   "execution_count": 70,
   "id": "d3349f8b-08a1-4dcc-ad6a-e70ce95fba36",
   "metadata": {},
   "outputs": [
    {
     "data": {
      "text/html": [
       "<div>\n",
       "<style scoped>\n",
       "    .dataframe tbody tr th:only-of-type {\n",
       "        vertical-align: middle;\n",
       "    }\n",
       "\n",
       "    .dataframe tbody tr th {\n",
       "        vertical-align: top;\n",
       "    }\n",
       "\n",
       "    .dataframe thead th {\n",
       "        text-align: right;\n",
       "    }\n",
       "</style>\n",
       "<table border=\"1\" class=\"dataframe\">\n",
       "  <thead>\n",
       "    <tr style=\"text-align: right;\">\n",
       "      <th></th>\n",
       "      <th>features</th>\n",
       "      <th>coeff</th>\n",
       "    </tr>\n",
       "  </thead>\n",
       "  <tbody>\n",
       "    <tr>\n",
       "      <th>50</th>\n",
       "      <td>households-total_bedrooms</td>\n",
       "      <td>0.979399</td>\n",
       "    </tr>\n",
       "    <tr>\n",
       "      <th>37</th>\n",
       "      <td>total_bedrooms-total_rooms</td>\n",
       "      <td>0.931546</td>\n",
       "    </tr>\n",
       "  </tbody>\n",
       "</table>\n",
       "</div>"
      ],
      "text/plain": [
       "                      features     coeff\n",
       "50   households-total_bedrooms  0.979399\n",
       "37  total_bedrooms-total_rooms  0.931546"
      ]
     },
     "execution_count": 70,
     "metadata": {},
     "output_type": "execute_result"
    }
   ],
   "source": [
    "get_corr_list(df_train, top=2)"
   ]
  },
  {
   "cell_type": "code",
   "execution_count": 71,
   "id": "a5a10614-7882-48bb-a71b-ecf4fdec285c",
   "metadata": {},
   "outputs": [
    {
     "data": {
      "text/html": [
       "<div>\n",
       "<style scoped>\n",
       "    .dataframe tbody tr th:only-of-type {\n",
       "        vertical-align: middle;\n",
       "    }\n",
       "\n",
       "    .dataframe tbody tr th {\n",
       "        vertical-align: top;\n",
       "    }\n",
       "\n",
       "    .dataframe thead th {\n",
       "        text-align: right;\n",
       "    }\n",
       "</style>\n",
       "<table border=\"1\" class=\"dataframe\">\n",
       "  <thead>\n",
       "    <tr style=\"text-align: right;\">\n",
       "      <th></th>\n",
       "      <th>features</th>\n",
       "      <th>coeff</th>\n",
       "    </tr>\n",
       "  </thead>\n",
       "  <tbody>\n",
       "    <tr>\n",
       "      <th>1</th>\n",
       "      <td>latitude-longitude</td>\n",
       "      <td>-0.925005</td>\n",
       "    </tr>\n",
       "    <tr>\n",
       "      <th>86</th>\n",
       "      <td>bedrooms_per_room-median_income</td>\n",
       "      <td>-0.616617</td>\n",
       "    </tr>\n",
       "  </tbody>\n",
       "</table>\n",
       "</div>"
      ],
      "text/plain": [
       "                           features     coeff\n",
       "1                latitude-longitude -0.925005\n",
       "86  bedrooms_per_room-median_income -0.616617"
      ]
     },
     "execution_count": 71,
     "metadata": {},
     "output_type": "execute_result"
    }
   ],
   "source": [
    "get_corr_list(df_train, top=-2)"
   ]
  },
  {
   "cell_type": "markdown",
   "id": "4bc93557-fa0a-46fe-9f73-ae62a04cf656",
   "metadata": {},
   "source": [
    "## Question 3"
   ]
  },
  {
   "cell_type": "code",
   "execution_count": 120,
   "id": "635f84f6-ff4d-41e5-8ace-80cfee484679",
   "metadata": {},
   "outputs": [],
   "source": [
    "def binarize(feature: list, full_y_mean):\n",
    "    return list((np.array(feature) > full_y_mean).astype(int))    "
   ]
  },
  {
   "cell_type": "code",
   "execution_count": 115,
   "id": "6471e4db-e206-4785-b5bb-c1e1debeb7ae",
   "metadata": {},
   "outputs": [
    {
     "data": {
      "text/plain": [
       "0.1"
      ]
     },
     "execution_count": 115,
     "metadata": {},
     "output_type": "execute_result"
    }
   ],
   "source": [
    "train_above_average = binarize(y_train, df)\n",
    "round(mutual_info_score(df_train.ocean_proximity, above_average),2)"
   ]
  },
  {
   "cell_type": "markdown",
   "id": "df0fcbb6-cea7-44b3-acf7-f33988e0ee85",
   "metadata": {},
   "source": [
    "## Question 4"
   ]
  },
  {
   "cell_type": "code",
   "execution_count": 204,
   "id": "d11e9e83-9926-49d5-833e-89a18fb9f5b6",
   "metadata": {},
   "outputs": [],
   "source": [
    "def vectorize(df_x: pd.DataFrame, dv: DictVectorizer, fit_vectorizer=False):\n",
    "    \n",
    "    x_dicts = df_x.to_dict(orient='records')\n",
    "    \n",
    "    if fit_vectorizer:\n",
    "        dv.fit(x_dicts)\n",
    "    \n",
    "    x = dv.transform(x_dicts)\n",
    "    \n",
    "    return x\n",
    "\n",
    "def preprocess(df_x: pd.DataFrame, y: list, full_y_mean: float, dv: DictVectorizer, fit_vectorizer=False):\n",
    "    \n",
    "    x = vectorize(df_x, dv, fit_vectorizer)\n",
    "    y_binarized = binarize(y, full_y_mean)\n",
    "    \n",
    "    return x, y_binarized"
   ]
  },
  {
   "cell_type": "code",
   "execution_count": 132,
   "id": "0a107975-9d5d-47cb-ae93-0f5c8a6ba4b5",
   "metadata": {},
   "outputs": [],
   "source": [
    "def get_accuracy(y: np.array, preds: np.array):\n",
    "    return sum(y == preds)/len(preds)\n",
    "    "
   ]
  },
  {
   "cell_type": "code",
   "execution_count": 133,
   "id": "18864174-4caa-446e-b388-79fbbd4dc27e",
   "metadata": {
    "collapsed": true,
    "jupyter": {
     "outputs_hidden": true
    },
    "tags": []
   },
   "outputs": [
    {
     "name": "stderr",
     "output_type": "stream",
     "text": [
      "/opt/miniconda3/envs/ml-zoomcamp/lib/python3.9/site-packages/sklearn/utils/deprecation.py:87: FutureWarning: Function get_feature_names is deprecated; get_feature_names is deprecated in 1.0 and will be removed in 1.2. Please use get_feature_names_out instead.\n",
      "  warnings.warn(msg, category=FutureWarning)\n"
     ]
    },
    {
     "data": {
      "text/plain": [
       "['bedrooms_per_room',\n",
       " 'households',\n",
       " 'housing_median_age',\n",
       " 'latitude',\n",
       " 'longitude',\n",
       " 'median_income',\n",
       " 'ocean_proximity=<1H OCEAN',\n",
       " 'ocean_proximity=INLAND',\n",
       " 'ocean_proximity=ISLAND',\n",
       " 'ocean_proximity=NEAR BAY',\n",
       " 'ocean_proximity=NEAR OCEAN',\n",
       " 'population',\n",
       " 'population_per_household',\n",
       " 'rooms_per_household',\n",
       " 'total_bedrooms',\n",
       " 'total_rooms']"
      ]
     },
     "execution_count": 133,
     "metadata": {},
     "output_type": "execute_result"
    }
   ],
   "source": [
    "# y_mean on full dataset\n",
    "y_mean = df.median_house_value.mean()\n",
    "dv = DictVectorizer(sparse=False)\n",
    "\n",
    "x_train, train_above_average = preprocess(df_train, y_train, y_mean, dv, fit_vectorizer=True)\n",
    "x_val, val_above_average = preprocess(df_val, y_val, y_mean, dv)\n",
    "\n",
    "dv.get_feature_names()"
   ]
  },
  {
   "cell_type": "code",
   "execution_count": 137,
   "id": "b6ba10a3-eb6d-4bd9-ad66-b10defe0ee2d",
   "metadata": {},
   "outputs": [],
   "source": [
    "def train_and_evaluate(x_train: list[list], y_train: list, x_val: list[list], y_val: list) -> float:\n",
    "\n",
    "    model = LogisticRegression(solver=\"liblinear\", C=1.0, max_iter=1000, random_state=42)\n",
    "    model.fit(x_train, y_train)\n",
    "\n",
    "    val_preds = model.predict(x_val)\n",
    "\n",
    "    return get_accuracy(y=np.array(y_val), preds=val_preds)"
   ]
  },
  {
   "cell_type": "code",
   "execution_count": 138,
   "id": "c5d483a5-164c-4125-9c5b-e24e16f20c50",
   "metadata": {},
   "outputs": [
    {
     "name": "stdout",
     "output_type": "stream",
     "text": [
      " Validation accuracy is: 0.84\n"
     ]
    }
   ],
   "source": [
    "print(f' Validation accuracy is: {round(train_and_evaluate(x_train, train_above_average, x_val, val_above_average) ,2)}')"
   ]
  },
  {
   "cell_type": "markdown",
   "id": "e1038ac4-65df-454f-ba72-24830f79bb75",
   "metadata": {},
   "source": [
    "## Question 5"
   ]
  },
  {
   "cell_type": "code",
   "execution_count": 202,
   "id": "dba7dc5d-cf3f-4e03-8a17-e6545cb0b3d4",
   "metadata": {},
   "outputs": [],
   "source": [
    "def feature_elimination(train_df, train_y, val_df, val_y, y_mean, permute_features=['total_rooms', 'total_bedrooms', 'population', 'households']):\n",
    "    \n",
    "    # Calculate original accuracy.\n",
    "    dv = DictVectorizer(sparse=False)\n",
    "    x_train, train_above_average = preprocess(train_df, train_y, y_mean, dv, fit_vectorizer=True)\n",
    "    x_val, val_above_average = preprocess(val_df, val_y, y_mean, dv)\n",
    "\n",
    "    ref_accuracy = train_and_evaluate(x_train, train_above_average, x_val, val_above_average)\n",
    "    \n",
    "    print(f\"{'Feature eliminated' : <20}{'accuracy' : ^15}{'difference' : >15}\")\n",
    "    print(f\"{'-' : <20}{round(ref_accuracy,4) : ^15}{'-' : >15}\")\n",
    "    \n",
    "    # Eliminate features and calculate accuracy.\n",
    "    for feature in permute_features:\n",
    "        df_train = train_df.copy()\n",
    "        df_val = val_df.copy()\n",
    "        \n",
    "        del df_train[feature]\n",
    "        del df_val[feature]\n",
    "        \n",
    "        dv = DictVectorizer(sparse=False)\n",
    "        \n",
    "        x_train, train_above_average = preprocess(df_train, y_train, y_mean, dv, fit_vectorizer=True)\n",
    "        x_val, val_above_average = preprocess(df_val, y_val, y_mean, dv)\n",
    "        \n",
    "        accuracy = train_and_evaluate(x_train, train_above_average, x_val, val_above_average)\n",
    "        \n",
    "        print(f\"{feature : <20}{round(accuracy,4) : ^15}{round(ref_accuracy - accuracy,4) : >15}\")"
   ]
  },
  {
   "cell_type": "code",
   "execution_count": 203,
   "id": "94565696-89be-4dfd-8102-8581b24287b9",
   "metadata": {},
   "outputs": [
    {
     "name": "stdout",
     "output_type": "stream",
     "text": [
      "Feature eliminated     accuracy         difference\n",
      "-                       0.8375                   -\n",
      "total_rooms              0.837              0.0005\n",
      "total_bedrooms          0.8355              0.0019\n",
      "population              0.8263              0.0111\n",
      "households              0.8336              0.0039\n"
     ]
    }
   ],
   "source": [
    "y_mean = df.median_house_value.mean()\n",
    "feature_elimination(df_train, y_train, df_val, y_val, y_mean)"
   ]
  },
  {
   "cell_type": "markdown",
   "id": "d6de2808-6fd4-4494-86d8-bcef1ed79ddf",
   "metadata": {},
   "source": [
    "total_rooms has the smalles difference."
   ]
  },
  {
   "cell_type": "markdown",
   "id": "78828f66-a8f8-4a7e-bdee-6ea4c02567bd",
   "metadata": {},
   "source": [
    "## Question 6"
   ]
  },
  {
   "cell_type": "code",
   "execution_count": 209,
   "id": "85372b33-04a0-4402-86d1-76bf6579f752",
   "metadata": {},
   "outputs": [],
   "source": [
    "def train_and_evaluate_ridge(df_train, y_train, df_val, y_val, a):\n",
    "    \n",
    "    model = Ridge(alpha=a, solver=\"sag\", random_state=42)\n",
    "    model.fit(x_train, y_train)\n",
    "    \n",
    "    preds = model.predict(x_val)\n",
    "    \n",
    "    return mean_squared_error(preds, y_val, squared=False)\n",
    "    "
   ]
  },
  {
   "cell_type": "code",
   "execution_count": 221,
   "id": "693fb553-f06f-46cb-9f1d-9a007e1e4848",
   "metadata": {},
   "outputs": [
    {
     "name": "stdout",
     "output_type": "stream",
     "text": [
      "alpha           rmse\n",
      "0              0.524\n",
      "0.01           0.524\n",
      "0.1            0.524\n",
      "1              0.524\n",
      "10             0.524\n"
     ]
    }
   ],
   "source": [
    "# Load\n",
    "df = load_data()\n",
    "df_train, y_train, df_val, y_val, df_test, y_test = split(df)\n",
    "\n",
    "# Vectorize\n",
    "dv = DictVectorizer(sparse=False)\n",
    "x_train = vectorize(df_train, dv, fit_vectorizer=True)\n",
    "x_val = vectorize(df_val, dv)\n",
    "\n",
    "# Log transform\n",
    "y_train = np.log1p(y_train)\n",
    "y_val = np.log1p(y_val)\n",
    "\n",
    "print(f\"{'alpha' : <10}{'rmse' : >10}\")\n",
    "\n",
    "for a in [0, 0.01, 0.1, 1, 10]:\n",
    "    rmse = train_and_evaluate_ridge(df_train, y_train, df_val, y_val, a)\n",
    "    print(f\"{a: <10}{round(rmse, 3): >10}\")\n"
   ]
  },
  {
   "cell_type": "code",
   "execution_count": null,
   "id": "2daef661-88d2-4bbd-a2df-6b132f7f3b19",
   "metadata": {},
   "outputs": [],
   "source": []
  }
 ],
 "metadata": {
  "kernelspec": {
   "display_name": "Python 3",
   "language": "python",
   "name": "python3"
  },
  "language_info": {
   "codemirror_mode": {
    "name": "ipython",
    "version": 3
   },
   "file_extension": ".py",
   "mimetype": "text/x-python",
   "name": "python",
   "nbconvert_exporter": "python",
   "pygments_lexer": "ipython3",
   "version": "3.9.13"
  }
 },
 "nbformat": 4,
 "nbformat_minor": 5
}
