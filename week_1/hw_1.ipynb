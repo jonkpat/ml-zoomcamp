{
 "cells": [
  {
   "cell_type": "markdown",
   "id": "6d4e4b46-6576-4f13-ae0b-dd4c554f78ff",
   "metadata": {},
   "source": [
    "# Homework 1"
   ]
  },
  {
   "cell_type": "code",
   "execution_count": 9,
   "id": "2f422580-7b88-42bf-bdf9-530f7cda9721",
   "metadata": {},
   "outputs": [],
   "source": [
    "import numpy as np\n",
    "import pandas as pd"
   ]
  },
  {
   "cell_type": "markdown",
   "id": "3c15bf37",
   "metadata": {},
   "source": []
  },
  {
   "cell_type": "markdown",
   "id": "09444723-90c3-4afa-a382-41dc76bddc35",
   "metadata": {},
   "source": [
    "## Download data"
   ]
  },
  {
   "cell_type": "code",
   "execution_count": 8,
   "id": "8f16a374-c112-414a-a925-c32cba3fa348",
   "metadata": {},
   "outputs": [
    {
     "name": "stdout",
     "output_type": "stream",
     "text": [
      "  % Total    % Received % Xferd  Average Speed   Time    Time     Time  Current\n",
      "                                 Dload  Upload   Total   Spent    Left  Speed\n",
      "100 1440k  100 1440k    0     0  2169k      0 --:--:-- --:--:-- --:--:-- 2183k\n"
     ]
    }
   ],
   "source": [
    "!curl https://raw.githubusercontent.com/alexeygrigorev/mlbookcamp-code/master/chapter-02-car-price/data.csv >> data/data.csv"
   ]
  },
  {
   "cell_type": "markdown",
   "id": "b108fced-835b-41fa-a35b-309fdaa4b573",
   "metadata": {},
   "source": [
    "## Answers:\n",
    "### Question 1"
   ]
  },
  {
   "cell_type": "markdown",
   "id": "978161ba-20f2-463a-8cae-d91b9c369b92",
   "metadata": {},
   "source": [
    "Numpy version."
   ]
  },
  {
   "cell_type": "code",
   "execution_count": 4,
   "id": "44d8857a-06eb-4352-a2be-e36b4f909396",
   "metadata": {},
   "outputs": [
    {
     "data": {
      "text/plain": [
       "'1.22.3'"
      ]
     },
     "execution_count": 4,
     "metadata": {},
     "output_type": "execute_result"
    }
   ],
   "source": [
    "np.__version__"
   ]
  },
  {
   "cell_type": "markdown",
   "id": "1a6167c8-fa62-439a-ac75-ab55b741f779",
   "metadata": {},
   "source": [
    "### Question 2"
   ]
  },
  {
   "cell_type": "markdown",
   "id": "8b4a3217-ed8f-47ce-93f7-783d3adcc594",
   "metadata": {},
   "source": [
    "Number of rows."
   ]
  },
  {
   "cell_type": "code",
   "execution_count": 11,
   "id": "54de9035-158f-45b8-9513-d3e8204571af",
   "metadata": {},
   "outputs": [],
   "source": [
    "df = pd.read_csv('data/data.csv')"
   ]
  },
  {
   "cell_type": "code",
   "execution_count": 13,
   "id": "14a5d43f-2998-4c61-8c71-2503a9cf9451",
   "metadata": {},
   "outputs": [
    {
     "name": "stdout",
     "output_type": "stream",
     "text": [
      "Number of rows is: 11914\n"
     ]
    }
   ],
   "source": [
    "print(f'Number of rows is: {len(df.index)}')"
   ]
  },
  {
   "cell_type": "markdown",
   "id": "21fce9d5-0a1c-40a4-a6c1-22d946aa489f",
   "metadata": {},
   "source": [
    "### Question 3"
   ]
  },
  {
   "cell_type": "markdown",
   "id": "c3f86a97-124e-4ca2-8733-87c4e7d7bba5",
   "metadata": {},
   "source": [
    "Top three manufacturers."
   ]
  },
  {
   "cell_type": "code",
   "execution_count": 19,
   "id": "e0fff1f7-bea3-4f6e-805f-6c53140facc0",
   "metadata": {},
   "outputs": [
    {
     "data": {
      "text/plain": [
       "Chevrolet     1123\n",
       "Ford           881\n",
       "Volkswagen     809\n",
       "Name: Make, dtype: int64"
      ]
     },
     "execution_count": 19,
     "metadata": {},
     "output_type": "execute_result"
    }
   ],
   "source": [
    "df.Make.value_counts()[:3]"
   ]
  },
  {
   "cell_type": "markdown",
   "id": "5965f09f-6f57-463c-827b-8afc47ad81bc",
   "metadata": {},
   "source": [
    "### Question 4"
   ]
  },
  {
   "cell_type": "markdown",
   "id": "3f36696d-36a3-4ca0-ab96-330292f631bb",
   "metadata": {},
   "source": [
    "Number of unique audi car models."
   ]
  },
  {
   "cell_type": "code",
   "execution_count": 23,
   "id": "c2a97416-27ea-493d-971a-c77eb1281d62",
   "metadata": {},
   "outputs": [
    {
     "data": {
      "text/plain": [
       "34"
      ]
     },
     "execution_count": 23,
     "metadata": {},
     "output_type": "execute_result"
    }
   ],
   "source": [
    "df[df.Make == 'Audi'].Model.nunique()"
   ]
  },
  {
   "cell_type": "markdown",
   "id": "cad0f674-d9a2-4c1a-81df-cdfcbef2e007",
   "metadata": {},
   "source": [
    "### Question 5"
   ]
  },
  {
   "cell_type": "markdown",
   "id": "b0c66cc6-0cf2-4caa-b808-d8ecbcec27ee",
   "metadata": {},
   "source": [
    "Number of columns with missing values."
   ]
  },
  {
   "cell_type": "code",
   "execution_count": 31,
   "id": "cfc2a955-90ee-41b3-ada6-c32cb7a156ca",
   "metadata": {},
   "outputs": [
    {
     "data": {
      "text/plain": [
       "Make                    0\n",
       "Model                   0\n",
       "Year                    0\n",
       "Engine Fuel Type        3\n",
       "Engine HP              69\n",
       "Engine Cylinders       30\n",
       "Transmission Type       0\n",
       "Driven_Wheels           0\n",
       "Number of Doors         6\n",
       "Market Category      3742\n",
       "Vehicle Size            0\n",
       "Vehicle Style           0\n",
       "highway MPG             0\n",
       "city mpg                0\n",
       "Popularity              0\n",
       "MSRP                    0\n",
       "dtype: int64"
      ]
     },
     "execution_count": 31,
     "metadata": {},
     "output_type": "execute_result"
    }
   ],
   "source": [
    "df.isnull().sum()"
   ]
  },
  {
   "cell_type": "code",
   "execution_count": 32,
   "id": "2f6d6398-e9b9-4608-951c-41bb84ff4604",
   "metadata": {},
   "outputs": [
    {
     "data": {
      "text/plain": [
       "5"
      ]
     },
     "execution_count": 32,
     "metadata": {},
     "output_type": "execute_result"
    }
   ],
   "source": [
    "sum(df.isnull().sum() != 0)"
   ]
  },
  {
   "cell_type": "markdown",
   "id": "63ed2247-90a7-41be-8a74-7b94d0bcba82",
   "metadata": {},
   "source": [
    "### Question 6"
   ]
  },
  {
   "cell_type": "markdown",
   "id": "e8a50bf9-5a17-471b-8d04-fdc88dfc6599",
   "metadata": {},
   "source": [
    "- Find the median value of \"Engine Cylinders\" column in the dataset.\n",
    "- Next, calculate the most frequent value of the same \"Engine Cylinders\".\n",
    "- Use the fillna method to fill the missing values in \"Engine Cylinders\" with the most frequent value from the previous step.\n",
    "- Now, calculate the median value of \"Engine Cylinders\" once again."
   ]
  },
  {
   "cell_type": "code",
   "execution_count": 36,
   "id": "9f8bb341-3e1c-4aa7-8739-79fed95d5473",
   "metadata": {},
   "outputs": [
    {
     "data": {
      "text/plain": [
       "6.0"
      ]
     },
     "execution_count": 36,
     "metadata": {},
     "output_type": "execute_result"
    }
   ],
   "source": [
    "df['Engine Cylinders'].median()"
   ]
  },
  {
   "cell_type": "code",
   "execution_count": 43,
   "id": "95406593-ea81-4141-bb13-f11bbb80ae65",
   "metadata": {},
   "outputs": [
    {
     "data": {
      "text/plain": [
       "4.0     4752\n",
       "6.0     4489\n",
       "8.0     2031\n",
       "12.0     230\n",
       "5.0      225\n",
       "10.0      68\n",
       "0.0       56\n",
       "3.0       30\n",
       "16.0       3\n",
       "Name: Engine Cylinders, dtype: int64"
      ]
     },
     "execution_count": 43,
     "metadata": {},
     "output_type": "execute_result"
    }
   ],
   "source": [
    "df['Engine Cylinders'].value_counts()"
   ]
  },
  {
   "cell_type": "markdown",
   "id": "4511a2d9-f9d4-45ca-bcf3-05ab3da83792",
   "metadata": {},
   "source": [
    "Most frequent is 4 cylinders."
   ]
  },
  {
   "cell_type": "code",
   "execution_count": 44,
   "id": "9f5567fa-0799-4690-86aa-55b1116f621e",
   "metadata": {},
   "outputs": [],
   "source": [
    "df['Engine Cylinders'] = df['Engine Cylinders'].fillna(4.0)"
   ]
  },
  {
   "cell_type": "code",
   "execution_count": 45,
   "id": "efaaf3f4-e21c-4e15-9600-f08d0969407b",
   "metadata": {},
   "outputs": [
    {
     "data": {
      "text/plain": [
       "6.0"
      ]
     },
     "execution_count": 45,
     "metadata": {},
     "output_type": "execute_result"
    }
   ],
   "source": [
    "df['Engine Cylinders'].median()"
   ]
  },
  {
   "cell_type": "markdown",
   "id": "25ba1869-b489-45d0-92e0-0b7a623cd582",
   "metadata": {},
   "source": [
    "So the median value didn't change!"
   ]
  },
  {
   "cell_type": "markdown",
   "id": "bf9b0a4c-e3b6-45ae-9f13-bf4b83380327",
   "metadata": {},
   "source": [
    "### Question 7\n",
    "\n",
    "1. Select all the \"Lotus\" cars from the dataset.\n",
    "2. Select only columns \"Engine HP\", \"Engine Cylinders\".\n",
    "3. Now drop all duplicated rows using `drop_duplicates` method (you should get a dataframe with 9 rows).\n",
    "4. Get the underlying NumPy array. Let's call it `X`.\n",
    "5. Compute matrix-matrix multiplication between the transpose of `X` and `X`. To get the transpose, use `X.T`. Let's call the result `XTX`.\n",
    "6. Invert `XTX`.\n",
    "7. Create an array `y` with values `[1100, 800, 750, 850, 1300, 1000, 1000, 1300, 800]`.\n",
    "8. Multiply the inverse of `XTX` with the transpose of `X`, and then multiply the result by `y`. Call the result `w`.\n",
    "9. What's the value of the first element of `w`?"
   ]
  },
  {
   "cell_type": "code",
   "execution_count": 82,
   "id": "67b646d5-91ec-4af9-84da-0ae1d90ad87a",
   "metadata": {},
   "outputs": [],
   "source": [
    "X = df[df.Make == 'Lotus'][['Engine HP', 'Engine Cylinders']].drop_duplicates().to_numpy()"
   ]
  },
  {
   "cell_type": "code",
   "execution_count": 83,
   "id": "b0c68fc8-0523-4be4-9dd7-ecb1349fb450",
   "metadata": {},
   "outputs": [],
   "source": [
    "XTX = X.T @ X\n",
    "inverse = np.linalg.inv(XTX)\n",
    "y = [1100, 800, 750, 850, 1300, 1000, 1000, 1300, 800]\n",
    "w = (inverse @ X.T).dot(y) "
   ]
  },
  {
   "cell_type": "code",
   "execution_count": 87,
   "id": "bfa53eb7-d33d-4bbb-9ff6-a2e6aec95309",
   "metadata": {},
   "outputs": [
    {
     "data": {
      "text/plain": [
       "4.5949448100945744"
      ]
     },
     "execution_count": 87,
     "metadata": {},
     "output_type": "execute_result"
    }
   ],
   "source": [
    "w[0]"
   ]
  },
  {
   "cell_type": "code",
   "execution_count": null,
   "id": "574b0a45-bc1a-4342-8fba-c2da37b6048b",
   "metadata": {},
   "outputs": [],
   "source": []
  }
 ],
 "metadata": {
  "kernelspec": {
   "display_name": "Python 3.8.9 64-bit",
   "language": "python",
   "name": "python3"
  },
  "language_info": {
   "codemirror_mode": {
    "name": "ipython",
    "version": 3
   },
   "file_extension": ".py",
   "mimetype": "text/x-python",
   "name": "python",
   "nbconvert_exporter": "python",
   "pygments_lexer": "ipython3",
   "version": "3.8.9"
  },
  "vscode": {
   "interpreter": {
    "hash": "31f2aee4e71d21fbe5cf8b01ff0e069b9275f58929596ceb00d14d90e3e16cd6"
   }
  }
 },
 "nbformat": 4,
 "nbformat_minor": 5
}
